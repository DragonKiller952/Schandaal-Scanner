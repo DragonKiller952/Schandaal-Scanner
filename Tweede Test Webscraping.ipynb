{
 "cells": [
  {
   "cell_type": "code",
   "execution_count": 73,
   "metadata": {},
   "outputs": [
    {
     "name": "stdout",
     "output_type": "stream",
     "text": [
      "Bij een zware aardbeving in de buurt van de Tibetaanse stad Shigatse zijn in de nacht van maandag op dinsdag bijna honderd doden gevallen. Volgens de Chinese geologische dienst CENC ging het om een beving met een magnitude van 6.8. In de buurt van het epicentrum in Tingri zijn veel gebouwen ingestort. Vanuit die regio worden reizen naar de Mount Everest in de Himalaya georganiseerd. 's Werelds hoogste berg is zowel zuidelijk vanuit Nepal als noordelijk via Tibet te beklimmen. Tibet is een autonome regio in het zuidwesten van China. Shigatse is met naar schatting 800.000 inwoners de tweede stad van Tibet. De stad is bekend van het Tashilhunpo-klooster, de zetel van de pänchen lama. Dat is na de dalai lama de hoogste spirituele leider van het Tibetaanse boeddhisme. Het zuidwesten van China wordt vaker geteisterd door aardbevingen. In 2008 werd in de Chinese provincie Sichuan een beving met een kracht van 7.9 gemeten, die meer dan 80.000 mensen het leven kostte. In 2015 werd Nepal opgeschrikt door een aardbeving met een kracht van 7.8. Daarbij kwamen naar schatting negenduizend mensen om het leven. Lees reacties, stel vragen aan de redactie, geef respect en praat mee over het belangrijkste nieuws.\n"
     ]
    }
   ],
   "source": [
    "from bs4 import BeautifulSoup\n",
    "import mechanize\n",
    "\n",
    "# webpage = 'https://www.ad.nl/buitenland/eerste-besmetting-met-nieuwe-mpox-variant-in-frankrijk~a697230d/'\n",
    "webpage = 'https://www.nu.nl/buitenland/6341466/bijna-honderd-doden-en-ruim-130-gewonden-gemeld-in-tibet-na-zware-aardbeving.html'\n",
    "\n",
    "# Scraper wordt klaargezet\n",
    "br = mechanize.Browser()\n",
    "br.set_handle_robots(False)\n",
    "\n",
    "# Data wordt opgehaald van website\n",
    "# data = br.open(\"https://www.nu.nl/privacy-gate/accept?redirectUri=%2F\")\n",
    "# data = br.open(\"https://www.ad.nl/privacy-gate/accept-tcf2?redirectUri=%2F\")\n",
    "\n",
    "data = br.open(webpage).get_data()\n",
    "soup = BeautifulSoup(data)\n",
    "true_webpage = soup.find('script').get_text().split(\"siteUrl: '\")[1].split(\"',\")[0]\n",
    "# print(true_webpage)\n",
    "data = br.open(true_webpage).get_data()\n",
    "# print(data)\n",
    "\n",
    "# Data wordt omgezet door Beautiful Soup\n",
    "soup = BeautifulSoup(data)\n",
    "# Nuttige tekstvelden worden uit de html opgehaald\n",
    "# article_div = soup.find('div', class_='col col--primary')\n",
    "article_div = soup.find('div', class_='columns__main')\n",
    "\n",
    "# Velden met tekst worden leeggehaald als de tekstvelden er zijn, en als laatste worden ze samengevoegt en uitgeprint\n",
    "if article_div:\n",
    "    paragraphs = article_div.find_all('p')\n",
    "    article_text = ' '.join([p.get_text(strip=True) for p in paragraphs])\n",
    "    print(article_text)\n",
    "else:\n",
    "    print(\"Article content not found.\")"
   ]
  }
 ],
 "metadata": {
  "kernelspec": {
   "display_name": "Python 3",
   "language": "python",
   "name": "python3"
  },
  "language_info": {
   "codemirror_mode": {
    "name": "ipython",
    "version": 3
   },
   "file_extension": ".py",
   "mimetype": "text/x-python",
   "name": "python",
   "nbconvert_exporter": "python",
   "pygments_lexer": "ipython3",
   "version": "3.12.5"
  }
 },
 "nbformat": 4,
 "nbformat_minor": 2
}
