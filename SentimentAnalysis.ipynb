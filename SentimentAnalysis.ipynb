{
 "cells": [
  {
   "cell_type": "markdown",
   "metadata": {},
   "source": [
    "In dit notebook gaan we financiële niews artikelen proberen te classificeren aan de hand van een word2vec model. Eerst gaan er pre-processing stappen plaats vinden om de data schoon te maken zodat dit gebruikt kan worden voor het trainen van het llm model. Dit llm model wordt dan gebruikt om features te maken zodat deze gebruikt kunnen worden door een classificatie model. Dit model probeert dan te voorspellen wat het sentiment is van een nieuws artikel en wordt vervolgens gebruikt om een advies te genereren (via een ander model/notebook die later samen gevoegd gebracht worden middels een API). Dit notebook is puur voor het trainen het/de model(len).\n",
    "\n",
    "Om een begin te maken aan dit notebook is er gebruik gemaakt van een financial news dataset [1] op kaggle om dit model op te trainen. Ook is dit notebook gebasseerd op tutorials van kaggle [2][3] en zijn er aanpassing gemaakt zodat dit kan werken op ons probleem."
   ]
  },
  {
   "cell_type": "code",
   "execution_count": 3,
   "metadata": {},
   "outputs": [
    {
     "name": "stderr",
     "output_type": "stream",
     "text": [
      "[nltk_data] Downloading package stopwords to\n",
      "[nltk_data]     C:\\Users\\ramir\\AppData\\Roaming\\nltk_data...\n",
      "[nltk_data]   Unzipping corpora\\stopwords.zip.\n",
      "[nltk_data] Downloading package punkt_tab to\n",
      "[nltk_data]     C:\\Users\\ramir\\AppData\\Roaming\\nltk_data...\n",
      "[nltk_data]   Unzipping tokenizers\\punkt_tab.zip.\n"
     ]
    }
   ],
   "source": [
    "#Import libraries\n",
    "\n",
    "import re    # for regular expressions\n",
    "import nltk  # for text manipulation\n",
    "import string\n",
    "import warnings\n",
    "import numpy as np\n",
    "import pandas as pd\n",
    "import seaborn as sns\n",
    "import matplotlib.pyplot as plt\n",
    "import kagglehub\n",
    "import string\n",
    "import re\n",
    "from deep_translator import GoogleTranslator\n",
    "from gensim.models import word2vec\n",
    "from nltk.corpus import stopwords, wordnet\n",
    "from nltk.tokenize import word_tokenize\n",
    "from sklearn.model_selection import train_test_split\n",
    "from sklearn.ensemble import RandomForestClassifier\n",
    "from sklearn.model_selection import GridSearchCV\n",
    "import sklearn.metrics\n",
    "\n",
    "nltk.download('stopwords')\n",
    "nltk.download('punkt_tab')\n",
    "\n",
    "pd.set_option(\"display.max_colwidth\", 200)\n",
    "warnings.filterwarnings(\"ignore\", category=DeprecationWarning)"
   ]
  },
  {
   "cell_type": "markdown",
   "metadata": {},
   "source": [
    "Als eerst wordt de besproken dataset van financieel nieuws ingeladen. Als extra bijkomstigheid laden we ook 2 woorden lijsten [4] in die al geclassificeerd zijn als positief of negatief (Alle woorden die hier niet tussen staan worden als neutraal beschouwd)"
   ]
  },
  {
   "cell_type": "code",
   "execution_count": 4,
   "metadata": {},
   "outputs": [
    {
     "name": "stdout",
     "output_type": "stream",
     "text": [
      "Downloading from https://www.kaggle.com/api/v1/datasets/download/ankurzing/sentiment-analysis-for-financial-news?dataset_version_number=5...\n"
     ]
    },
    {
     "name": "stderr",
     "output_type": "stream",
     "text": [
      "100%|██████████| 903k/903k [00:00<00:00, 1.55MB/s]"
     ]
    },
    {
     "name": "stdout",
     "output_type": "stream",
     "text": [
      "Extracting files...\n",
      "Path to dataset files: C:\\Users\\ramir\\.cache\\kagglehub\\datasets\\ankurzing\\sentiment-analysis-for-financial-news\\versions\\5\n"
     ]
    },
    {
     "name": "stderr",
     "output_type": "stream",
     "text": [
      "\n"
     ]
    }
   ],
   "source": [
    "# Download latest version\n",
    "path = kagglehub.dataset_download(\"ankurzing/sentiment-analysis-for-financial-news\")\n",
    "\n",
    "print(\"Path to dataset files:\", path)\n",
    "\n",
    "postive_words_file = open(\"positive-words.txt\", \"r\")\n",
    "negative_words_file = open(\"negative-words.txt\", \"r\")\n",
    "\n",
    "postive_words = postive_words_file.readlines()\n",
    "negative_words = negative_words_file.readlines()\n",
    "\n",
    "postive_words = set(map(lambda w: w.replace(\"\\n\", \"\"), postive_words))\n",
    "negative_words = set(map(lambda w: w.replace(\"\\n\", \"\"), negative_words))\n",
    "negation_words = set([\n",
    "    \"no\",\n",
    "    \"not\",\n",
    "    \"neither\",\n",
    "    \"nor\",\n",
    "    \"none\",\n",
    "    \"nothing\",\n",
    "    ]) # Just an example set\n"
   ]
  },
  {
   "cell_type": "markdown",
   "metadata": {},
   "source": [
    "Voordat we verder gaat met de rest moeten we eerst even naar het gegeven pad gaan om de file \"all-data.csv\" te kopiëren naar het project. Het direct gebruik maken van het pad voor het lezen van de file geeft een permission denied error."
   ]
  },
  {
   "cell_type": "code",
   "execution_count": 5,
   "metadata": {},
   "outputs": [],
   "source": [
    "def translate_text(text):\n",
    "    translator = GoogleTranslator(source='auto', target='en')\n",
    "    translated = translator.translate(text)\n",
    "    return translated"
   ]
  },
  {
   "cell_type": "code",
   "execution_count": 6,
   "metadata": {},
   "outputs": [
    {
     "name": "stdout",
     "output_type": "stream",
     "text": [
      "sentiment\n",
      "negative    604\n",
      "positive    604\n",
      "Name: count, dtype: int64\n"
     ]
    },
    {
     "data": {
      "text/html": [
       "<div>\n",
       "<style scoped>\n",
       "    .dataframe tbody tr th:only-of-type {\n",
       "        vertical-align: middle;\n",
       "    }\n",
       "\n",
       "    .dataframe tbody tr th {\n",
       "        vertical-align: top;\n",
       "    }\n",
       "\n",
       "    .dataframe thead th {\n",
       "        text-align: right;\n",
       "    }\n",
       "</style>\n",
       "<table border=\"1\" class=\"dataframe\">\n",
       "  <thead>\n",
       "    <tr style=\"text-align: right;\">\n",
       "      <th></th>\n",
       "      <th>sentiment</th>\n",
       "      <th>text</th>\n",
       "    </tr>\n",
       "  </thead>\n",
       "  <tbody>\n",
       "    <tr>\n",
       "      <th>0</th>\n",
       "      <td>negative</td>\n",
       "      <td>The company decided at the end of 2008 to temporarily shut down its ammonia plant in Billingham and extend the maintenance period at its Ince facility .</td>\n",
       "    </tr>\n",
       "    <tr>\n",
       "      <th>1</th>\n",
       "      <td>negative</td>\n",
       "      <td>down to EUR5 .9 m H1 '09 3 August 2009 - Finnish media group Ilkka-Yhtyma Oyj ( HEL : ILK2S ) said today its net profit fell 45 % on the year to EUR5 .9 m in the first half of 2009 .</td>\n",
       "    </tr>\n",
       "    <tr>\n",
       "      <th>2</th>\n",
       "      <td>negative</td>\n",
       "      <td>The steelmaker said that the drop in profit was explained by the continuing economic uncertainty , mixed with the current drought in bank lending , resulting in a decline in demand for its product...</td>\n",
       "    </tr>\n",
       "    <tr>\n",
       "      <th>3</th>\n",
       "      <td>negative</td>\n",
       "      <td>Finland-based Stockmann Group has closed seven franchising sports stores Nike in Russia .</td>\n",
       "    </tr>\n",
       "    <tr>\n",
       "      <th>4</th>\n",
       "      <td>negative</td>\n",
       "      <td>Operating loss before non-recurring items was EUR 0.9 mn , compared to a profit of EUR 11.5 mn in 2008 .</td>\n",
       "    </tr>\n",
       "    <tr>\n",
       "      <th>...</th>\n",
       "      <td>...</td>\n",
       "      <td>...</td>\n",
       "    </tr>\n",
       "    <tr>\n",
       "      <th>1203</th>\n",
       "      <td>positive</td>\n",
       "      <td>Meanwhile , Electrowatt-Ekono Philippines , Inc. was also awarded a three-year operation and maintenance ( O&amp;M ) contract by FR Cement Corporation .</td>\n",
       "    </tr>\n",
       "    <tr>\n",
       "      <th>1204</th>\n",
       "      <td>positive</td>\n",
       "      <td>The company reports a loss for the period of EUR 0.4 mn compared to a loss of EUR 1.9 mn in the corresponding period in 2005 .</td>\n",
       "    </tr>\n",
       "    <tr>\n",
       "      <th>1205</th>\n",
       "      <td>positive</td>\n",
       "      <td>29 September , 2010 Finnish waste management and recycling company Lassila &amp; Tikanoja expands its operations in Russia by introducing its recently completed recycling plant in the city of Dubna ne...</td>\n",
       "    </tr>\n",
       "    <tr>\n",
       "      <th>1206</th>\n",
       "      <td>positive</td>\n",
       "      <td>Last year SysOpen Digia invested in IBM product know-how in the building of portal and trading place systems and successfully implemented customer solutions supported by it .</td>\n",
       "    </tr>\n",
       "    <tr>\n",
       "      <th>1207</th>\n",
       "      <td>positive</td>\n",
       "      <td>Operating profit excluding restructuring costs grew to EUR 44.5 million from EUR 31.7 million while operating profit including restructuring costs showed even larger growth to EUR 38.5 million fro...</td>\n",
       "    </tr>\n",
       "  </tbody>\n",
       "</table>\n",
       "<p>1208 rows × 2 columns</p>\n",
       "</div>"
      ],
      "text/plain": [
       "     sentiment  \\\n",
       "0     negative   \n",
       "1     negative   \n",
       "2     negative   \n",
       "3     negative   \n",
       "4     negative   \n",
       "...        ...   \n",
       "1203  positive   \n",
       "1204  positive   \n",
       "1205  positive   \n",
       "1206  positive   \n",
       "1207  positive   \n",
       "\n",
       "                                                                                                                                                                                                         text  \n",
       "0                                                    The company decided at the end of 2008 to temporarily shut down its ammonia plant in Billingham and extend the maintenance period at its Ince facility .  \n",
       "1                      down to EUR5 .9 m H1 '09 3 August 2009 - Finnish media group Ilkka-Yhtyma Oyj ( HEL : ILK2S ) said today its net profit fell 45 % on the year to EUR5 .9 m in the first half of 2009 .  \n",
       "2     The steelmaker said that the drop in profit was explained by the continuing economic uncertainty , mixed with the current drought in bank lending , resulting in a decline in demand for its product...  \n",
       "3                                                                                                                   Finland-based Stockmann Group has closed seven franchising sports stores Nike in Russia .  \n",
       "4                                                                                                    Operating loss before non-recurring items was EUR 0.9 mn , compared to a profit of EUR 11.5 mn in 2008 .  \n",
       "...                                                                                                                                                                                                       ...  \n",
       "1203                                                     Meanwhile , Electrowatt-Ekono Philippines , Inc. was also awarded a three-year operation and maintenance ( O&M ) contract by FR Cement Corporation .  \n",
       "1204                                                                           The company reports a loss for the period of EUR 0.4 mn compared to a loss of EUR 1.9 mn in the corresponding period in 2005 .  \n",
       "1205  29 September , 2010 Finnish waste management and recycling company Lassila & Tikanoja expands its operations in Russia by introducing its recently completed recycling plant in the city of Dubna ne...  \n",
       "1206                           Last year SysOpen Digia invested in IBM product know-how in the building of portal and trading place systems and successfully implemented customer solutions supported by it .  \n",
       "1207  Operating profit excluding restructuring costs grew to EUR 44.5 million from EUR 31.7 million while operating profit including restructuring costs showed even larger growth to EUR 38.5 million fro...  \n",
       "\n",
       "[1208 rows x 2 columns]"
      ]
     },
     "execution_count": 6,
     "metadata": {},
     "output_type": "execute_result"
    }
   ],
   "source": [
    "#read the data\n",
    "df = pd.read_csv(\"all-data.csv\", names=[\"sentiment\", \"text\"],encoding=\"utf-8\", encoding_errors=\"replace\")\n",
    "df = df[df['sentiment'] != 'neutral']\n",
    "\n",
    "min_count = df['sentiment'].value_counts().min()\n",
    "df = df.groupby('sentiment').sample(n=min_count, random_state=42)\n",
    "df['text'] = df['text'].apply(translate_text)\n",
    "\n",
    "df.reset_index(drop=True, inplace=True)\n",
    "\n",
    "print(df['sentiment'].value_counts())\n",
    "\n",
    "df"
   ]
  },
  {
   "cell_type": "markdown",
   "metadata": {},
   "source": [
    "Nu dat de data is ingelezen gaan we beginnen met data exploratie. "
   ]
  },
  {
   "cell_type": "code",
   "execution_count": 7,
   "metadata": {},
   "outputs": [
    {
     "data": {
      "text/html": [
       "<div>\n",
       "<style scoped>\n",
       "    .dataframe tbody tr th:only-of-type {\n",
       "        vertical-align: middle;\n",
       "    }\n",
       "\n",
       "    .dataframe tbody tr th {\n",
       "        vertical-align: top;\n",
       "    }\n",
       "\n",
       "    .dataframe thead th {\n",
       "        text-align: right;\n",
       "    }\n",
       "</style>\n",
       "<table border=\"1\" class=\"dataframe\">\n",
       "  <thead>\n",
       "    <tr style=\"text-align: right;\">\n",
       "      <th></th>\n",
       "      <th>sentiment</th>\n",
       "      <th>text</th>\n",
       "    </tr>\n",
       "  </thead>\n",
       "  <tbody>\n",
       "    <tr>\n",
       "      <th>604</th>\n",
       "      <td>positive</td>\n",
       "      <td>EBIT excluding non-recurring items , totalled EUR 67.8 mn , up from EUR 38.1 mn .</td>\n",
       "    </tr>\n",
       "    <tr>\n",
       "      <th>605</th>\n",
       "      <td>positive</td>\n",
       "      <td>` This is a repeat order to follow successfully installed 159 elevators in the same Delhi metro system , ' Kone spokeswoman told Thomson Financial News .</td>\n",
       "    </tr>\n",
       "    <tr>\n",
       "      <th>606</th>\n",
       "      <td>positive</td>\n",
       "      <td>According to Olvi 's Managing Director Lasse Aho , the company has an ongoing MMX Plus project that aims to find growth outside Finland .</td>\n",
       "    </tr>\n",
       "    <tr>\n",
       "      <th>607</th>\n",
       "      <td>positive</td>\n",
       "      <td>Systeemitiimi 's sales and project resources will also be strengthened , director Paul Skogberg said .</td>\n",
       "    </tr>\n",
       "    <tr>\n",
       "      <th>608</th>\n",
       "      <td>positive</td>\n",
       "      <td>The Lithuanian beer market made up 14.41 million liters in January , a rise of 0.8 percent from the year-earlier figure , the Lithuanian Brewers ' Association reporting citing the results from its...</td>\n",
       "    </tr>\n",
       "    <tr>\n",
       "      <th>...</th>\n",
       "      <td>...</td>\n",
       "      <td>...</td>\n",
       "    </tr>\n",
       "    <tr>\n",
       "      <th>1203</th>\n",
       "      <td>positive</td>\n",
       "      <td>Meanwhile , Electrowatt-Ekono Philippines , Inc. was also awarded a three-year operation and maintenance ( O&amp;M ) contract by FR Cement Corporation .</td>\n",
       "    </tr>\n",
       "    <tr>\n",
       "      <th>1204</th>\n",
       "      <td>positive</td>\n",
       "      <td>The company reports a loss for the period of EUR 0.4 mn compared to a loss of EUR 1.9 mn in the corresponding period in 2005 .</td>\n",
       "    </tr>\n",
       "    <tr>\n",
       "      <th>1205</th>\n",
       "      <td>positive</td>\n",
       "      <td>29 September , 2010 Finnish waste management and recycling company Lassila &amp; Tikanoja expands its operations in Russia by introducing its recently completed recycling plant in the city of Dubna ne...</td>\n",
       "    </tr>\n",
       "    <tr>\n",
       "      <th>1206</th>\n",
       "      <td>positive</td>\n",
       "      <td>Last year SysOpen Digia invested in IBM product know-how in the building of portal and trading place systems and successfully implemented customer solutions supported by it .</td>\n",
       "    </tr>\n",
       "    <tr>\n",
       "      <th>1207</th>\n",
       "      <td>positive</td>\n",
       "      <td>Operating profit excluding restructuring costs grew to EUR 44.5 million from EUR 31.7 million while operating profit including restructuring costs showed even larger growth to EUR 38.5 million fro...</td>\n",
       "    </tr>\n",
       "  </tbody>\n",
       "</table>\n",
       "<p>604 rows × 2 columns</p>\n",
       "</div>"
      ],
      "text/plain": [
       "     sentiment  \\\n",
       "604   positive   \n",
       "605   positive   \n",
       "606   positive   \n",
       "607   positive   \n",
       "608   positive   \n",
       "...        ...   \n",
       "1203  positive   \n",
       "1204  positive   \n",
       "1205  positive   \n",
       "1206  positive   \n",
       "1207  positive   \n",
       "\n",
       "                                                                                                                                                                                                         text  \n",
       "604                                                                                                                         EBIT excluding non-recurring items , totalled EUR 67.8 mn , up from EUR 38.1 mn .  \n",
       "605                                                 ` This is a repeat order to follow successfully installed 159 elevators in the same Delhi metro system , ' Kone spokeswoman told Thomson Financial News .  \n",
       "606                                                                 According to Olvi 's Managing Director Lasse Aho , the company has an ongoing MMX Plus project that aims to find growth outside Finland .  \n",
       "607                                                                                                    Systeemitiimi 's sales and project resources will also be strengthened , director Paul Skogberg said .  \n",
       "608   The Lithuanian beer market made up 14.41 million liters in January , a rise of 0.8 percent from the year-earlier figure , the Lithuanian Brewers ' Association reporting citing the results from its...  \n",
       "...                                                                                                                                                                                                       ...  \n",
       "1203                                                     Meanwhile , Electrowatt-Ekono Philippines , Inc. was also awarded a three-year operation and maintenance ( O&M ) contract by FR Cement Corporation .  \n",
       "1204                                                                           The company reports a loss for the period of EUR 0.4 mn compared to a loss of EUR 1.9 mn in the corresponding period in 2005 .  \n",
       "1205  29 September , 2010 Finnish waste management and recycling company Lassila & Tikanoja expands its operations in Russia by introducing its recently completed recycling plant in the city of Dubna ne...  \n",
       "1206                           Last year SysOpen Digia invested in IBM product know-how in the building of portal and trading place systems and successfully implemented customer solutions supported by it .  \n",
       "1207  Operating profit excluding restructuring costs grew to EUR 44.5 million from EUR 31.7 million while operating profit including restructuring costs showed even larger growth to EUR 38.5 million fro...  \n",
       "\n",
       "[604 rows x 2 columns]"
      ]
     },
     "execution_count": 7,
     "metadata": {},
     "output_type": "execute_result"
    }
   ],
   "source": [
    "# Mocht je een andere sentiment willen zien dan moet je de geactiveerde lijn commenten en de gewenste lijn uncommenten.\n",
    "\n",
    "# Hoe zien de positieve sentimenten er uit\n",
    "df[df[\"sentiment\"] == \"positive\"]\n",
    "\n",
    "# Hoe zien de neutrale sentimenten er uit\n",
    "#df[df[\"sentiment\"] == \"neutral\"]\n",
    "\n",
    "# Hoe zien de negatieve sentimenten er uit\n",
    "#df[df[\"sentiment\"] == \"negative\"]\n"
   ]
  },
  {
   "cell_type": "markdown",
   "metadata": {},
   "source": [
    "Nu gaan we kijken naar hoeveel woorden elke tekst heeft. Na inspectie kunnen we zien dat de meeste teksten veel woorden hebben. Hier zouden we potentiëel goede word embedding maken."
   ]
  },
  {
   "cell_type": "code",
   "execution_count": 8,
   "metadata": {},
   "outputs": [
    {
     "data": {
      "image/png": "[encoded data removed]",
      "text/plain": [
       "<Figure size 640x480 with 1 Axes>"
      ]
     },
     "metadata": {},
     "output_type": "display_data"
    }
   ],
   "source": [
    "plt.hist(df.text.str.len(), bins=20, label='text words')\n",
    "plt.legend()\n",
    "plt.show()"
   ]
  },
  {
   "cell_type": "markdown",
   "metadata": {},
   "source": [
    "Nu kunnen we gaan beginnen met de eerste pre-processing stappen. Om te beginnen wordt alles naar lower case gebracht en wordt interpunctie verwijderd. Later worden er stopwoorden verwijderd."
   ]
  },
  {
   "cell_type": "code",
   "execution_count": 10,
   "metadata": {},
   "outputs": [
    {
     "data": {
      "text/html": [
       "<div>\n",
       "<style scoped>\n",
       "    .dataframe tbody tr th:only-of-type {\n",
       "        vertical-align: middle;\n",
       "    }\n",
       "\n",
       "    .dataframe tbody tr th {\n",
       "        vertical-align: top;\n",
       "    }\n",
       "\n",
       "    .dataframe thead th {\n",
       "        text-align: right;\n",
       "    }\n",
       "</style>\n",
       "<table border=\"1\" class=\"dataframe\">\n",
       "  <thead>\n",
       "    <tr style=\"text-align: right;\">\n",
       "      <th></th>\n",
       "      <th>sentiment</th>\n",
       "      <th>text</th>\n",
       "      <th>clean_text_tokenized</th>\n",
       "      <th>postive_word_count</th>\n",
       "      <th>negative_word_count</th>\n",
       "      <th>avg_sentiment_of_words</th>\n",
       "      <th>labels</th>\n",
       "    </tr>\n",
       "  </thead>\n",
       "  <tbody>\n",
       "    <tr>\n",
       "      <th>0</th>\n",
       "      <td>negative</td>\n",
       "      <td>The company decided at the end of 2008 to temporarily shut down its ammonia plant in Billingham and extend the maintenance period at its Ince facility .</td>\n",
       "      <td>[company, decided, end, temporarily, shut, ammonia, plant, billingham, extend, maintenance, period, ince, facility]</td>\n",
       "      <td>0</td>\n",
       "      <td>0</td>\n",
       "      <td>0.000000</td>\n",
       "      <td>0</td>\n",
       "    </tr>\n",
       "    <tr>\n",
       "      <th>1</th>\n",
       "      <td>negative</td>\n",
       "      <td>down to EUR5 .9 m H1 '09 3 August 2009 - Finnish media group Ilkka-Yhtyma Oyj ( HEL : ILK2S ) said today its net profit fell 45 % on the year to EUR5 .9 m in the first half of 2009 .</td>\n",
       "      <td>[eur, h, august, finnish, media, group, ilkkayhtyma, oyj, hel, ilks, said, today, net, profit, fell, year, eur, first, half]</td>\n",
       "      <td>0</td>\n",
       "      <td>1</td>\n",
       "      <td>-0.052632</td>\n",
       "      <td>0</td>\n",
       "    </tr>\n",
       "    <tr>\n",
       "      <th>2</th>\n",
       "      <td>negative</td>\n",
       "      <td>The steelmaker said that the drop in profit was explained by the continuing economic uncertainty , mixed with the current drought in bank lending , resulting in a decline in demand for its product...</td>\n",
       "      <td>[steelmaker, said, drop, profit, explained, continuing, economic, uncertainty, mixed, current, drought, bank, lending, resulting, decline, demand, products, customers, find, increasingly, difficul...</td>\n",
       "      <td>0</td>\n",
       "      <td>3</td>\n",
       "      <td>-0.130435</td>\n",
       "      <td>0</td>\n",
       "    </tr>\n",
       "    <tr>\n",
       "      <th>3</th>\n",
       "      <td>negative</td>\n",
       "      <td>Finland-based Stockmann Group has closed seven franchising sports stores Nike in Russia .</td>\n",
       "      <td>[finlandbased, stockmann, group, closed, seven, franchising, sports, stores, nike, russia]</td>\n",
       "      <td>0</td>\n",
       "      <td>0</td>\n",
       "      <td>0.000000</td>\n",
       "      <td>0</td>\n",
       "    </tr>\n",
       "    <tr>\n",
       "      <th>4</th>\n",
       "      <td>negative</td>\n",
       "      <td>Operating loss before non-recurring items was EUR 0.9 mn , compared to a profit of EUR 11.5 mn in 2008 .</td>\n",
       "      <td>[operating, loss, nonrecurring, items, eur, mn, compared, profit, eur, mn]</td>\n",
       "      <td>0</td>\n",
       "      <td>1</td>\n",
       "      <td>-0.100000</td>\n",
       "      <td>0</td>\n",
       "    </tr>\n",
       "    <tr>\n",
       "      <th>...</th>\n",
       "      <td>...</td>\n",
       "      <td>...</td>\n",
       "      <td>...</td>\n",
       "      <td>...</td>\n",
       "      <td>...</td>\n",
       "      <td>...</td>\n",
       "      <td>...</td>\n",
       "    </tr>\n",
       "    <tr>\n",
       "      <th>1203</th>\n",
       "      <td>positive</td>\n",
       "      <td>Meanwhile , Electrowatt-Ekono Philippines , Inc. was also awarded a three-year operation and maintenance ( O&amp;M ) contract by FR Cement Corporation .</td>\n",
       "      <td>[meanwhile, electrowattekono, philippines, inc, also, awarded, threeyear, operation, maintenance, om, contract, fr, cement, corporation]</td>\n",
       "      <td>1</td>\n",
       "      <td>0</td>\n",
       "      <td>0.071429</td>\n",
       "      <td>2</td>\n",
       "    </tr>\n",
       "    <tr>\n",
       "      <th>1204</th>\n",
       "      <td>positive</td>\n",
       "      <td>The company reports a loss for the period of EUR 0.4 mn compared to a loss of EUR 1.9 mn in the corresponding period in 2005 .</td>\n",
       "      <td>[company, reports, loss, period, eur, mn, compared, loss, eur, mn, corresponding, period]</td>\n",
       "      <td>0</td>\n",
       "      <td>2</td>\n",
       "      <td>-0.166667</td>\n",
       "      <td>2</td>\n",
       "    </tr>\n",
       "    <tr>\n",
       "      <th>1205</th>\n",
       "      <td>positive</td>\n",
       "      <td>29 September , 2010 Finnish waste management and recycling company Lassila &amp; Tikanoja expands its operations in Russia by introducing its recently completed recycling plant in the city of Dubna ne...</td>\n",
       "      <td>[september, finnish, waste, management, recycling, company, lassila, tikanoja, expands, operations, russia, introducing, recently, completed, recycling, plant, city, dubna, near, moscow]</td>\n",
       "      <td>0</td>\n",
       "      <td>1</td>\n",
       "      <td>-0.050000</td>\n",
       "      <td>2</td>\n",
       "    </tr>\n",
       "    <tr>\n",
       "      <th>1206</th>\n",
       "      <td>positive</td>\n",
       "      <td>Last year SysOpen Digia invested in IBM product know-how in the building of portal and trading place systems and successfully implemented customer solutions supported by it .</td>\n",
       "      <td>[last, year, sysopen, digia, invested, ibm, product, knowhow, building, portal, trading, place, systems, successfully, implemented, customer, solutions, supported]</td>\n",
       "      <td>2</td>\n",
       "      <td>0</td>\n",
       "      <td>0.111111</td>\n",
       "      <td>2</td>\n",
       "    </tr>\n",
       "    <tr>\n",
       "      <th>1207</th>\n",
       "      <td>positive</td>\n",
       "      <td>Operating profit excluding restructuring costs grew to EUR 44.5 million from EUR 31.7 million while operating profit including restructuring costs showed even larger growth to EUR 38.5 million fro...</td>\n",
       "      <td>[operating, profit, excluding, restructuring, costs, grew, eur, million, eur, million, operating, profit, including, restructuring, costs, showed, even, larger, growth, eur, million, eur, million]</td>\n",
       "      <td>2</td>\n",
       "      <td>0</td>\n",
       "      <td>0.086957</td>\n",
       "      <td>2</td>\n",
       "    </tr>\n",
       "  </tbody>\n",
       "</table>\n",
       "<p>1208 rows × 7 columns</p>\n",
       "</div>"
      ],
      "text/plain": [
       "     sentiment  \\\n",
       "0     negative   \n",
       "1     negative   \n",
       "2     negative   \n",
       "3     negative   \n",
       "4     negative   \n",
       "...        ...   \n",
       "1203  positive   \n",
       "1204  positive   \n",
       "1205  positive   \n",
       "1206  positive   \n",
       "1207  positive   \n",
       "\n",
       "                                                                                                                                                                                                         text  \\\n",
       "0                                                    The company decided at the end of 2008 to temporarily shut down its ammonia plant in Billingham and extend the maintenance period at its Ince facility .   \n",
       "1                      down to EUR5 .9 m H1 '09 3 August 2009 - Finnish media group Ilkka-Yhtyma Oyj ( HEL : ILK2S ) said today its net profit fell 45 % on the year to EUR5 .9 m in the first half of 2009 .   \n",
       "2     The steelmaker said that the drop in profit was explained by the continuing economic uncertainty , mixed with the current drought in bank lending , resulting in a decline in demand for its product...   \n",
       "3                                                                                                                   Finland-based Stockmann Group has closed seven franchising sports stores Nike in Russia .   \n",
       "4                                                                                                    Operating loss before non-recurring items was EUR 0.9 mn , compared to a profit of EUR 11.5 mn in 2008 .   \n",
       "...                                                                                                                                                                                                       ...   \n",
       "1203                                                     Meanwhile , Electrowatt-Ekono Philippines , Inc. was also awarded a three-year operation and maintenance ( O&M ) contract by FR Cement Corporation .   \n",
       "1204                                                                           The company reports a loss for the period of EUR 0.4 mn compared to a loss of EUR 1.9 mn in the corresponding period in 2005 .   \n",
       "1205  29 September , 2010 Finnish waste management and recycling company Lassila & Tikanoja expands its operations in Russia by introducing its recently completed recycling plant in the city of Dubna ne...   \n",
       "1206                           Last year SysOpen Digia invested in IBM product know-how in the building of portal and trading place systems and successfully implemented customer solutions supported by it .   \n",
       "1207  Operating profit excluding restructuring costs grew to EUR 44.5 million from EUR 31.7 million while operating profit including restructuring costs showed even larger growth to EUR 38.5 million fro...   \n",
       "\n",
       "                                                                                                                                                                                         clean_text_tokenized  \\\n",
       "0                                                                                         [company, decided, end, temporarily, shut, ammonia, plant, billingham, extend, maintenance, period, ince, facility]   \n",
       "1                                                                                [eur, h, august, finnish, media, group, ilkkayhtyma, oyj, hel, ilks, said, today, net, profit, fell, year, eur, first, half]   \n",
       "2     [steelmaker, said, drop, profit, explained, continuing, economic, uncertainty, mixed, current, drought, bank, lending, resulting, decline, demand, products, customers, find, increasingly, difficul...   \n",
       "3                                                                                                                  [finlandbased, stockmann, group, closed, seven, franchising, sports, stores, nike, russia]   \n",
       "4                                                                                                                                  [operating, loss, nonrecurring, items, eur, mn, compared, profit, eur, mn]   \n",
       "...                                                                                                                                                                                                       ...   \n",
       "1203                                                                 [meanwhile, electrowattekono, philippines, inc, also, awarded, threeyear, operation, maintenance, om, contract, fr, cement, corporation]   \n",
       "1204                                                                                                                [company, reports, loss, period, eur, mn, compared, loss, eur, mn, corresponding, period]   \n",
       "1205               [september, finnish, waste, management, recycling, company, lassila, tikanoja, expands, operations, russia, introducing, recently, completed, recycling, plant, city, dubna, near, moscow]   \n",
       "1206                                      [last, year, sysopen, digia, invested, ibm, product, knowhow, building, portal, trading, place, systems, successfully, implemented, customer, solutions, supported]   \n",
       "1207     [operating, profit, excluding, restructuring, costs, grew, eur, million, eur, million, operating, profit, including, restructuring, costs, showed, even, larger, growth, eur, million, eur, million]   \n",
       "\n",
       "      postive_word_count  negative_word_count  avg_sentiment_of_words  labels  \n",
       "0                      0                    0                0.000000       0  \n",
       "1                      0                    1               -0.052632       0  \n",
       "2                      0                    3               -0.130435       0  \n",
       "3                      0                    0                0.000000       0  \n",
       "4                      0                    1               -0.100000       0  \n",
       "...                  ...                  ...                     ...     ...  \n",
       "1203                   1                    0                0.071429       2  \n",
       "1204                   0                    2               -0.166667       2  \n",
       "1205                   0                    1               -0.050000       2  \n",
       "1206                   2                    0                0.111111       2  \n",
       "1207                   2                    0                0.086957       2  \n",
       "\n",
       "[1208 rows x 7 columns]"
      ]
     },
     "execution_count": 10,
     "metadata": {},
     "output_type": "execute_result"
    }
   ],
   "source": [
    "def lower_punctuation_no_numbers(text):\n",
    "    text = text.translate(str.maketrans('', '', string.punctuation))\n",
    "    text = re.sub(r'\\d+', '', text)\n",
    "    text = text.lower()\n",
    "    return text\n",
    "\n",
    "\n",
    "def remove_stop_words(text:str):\n",
    "    stop_words = set(stopwords.words(\"english\"))\n",
    "    \n",
    "    tokenized_text = word_tokenize(text)\n",
    "\n",
    "    filtered_text = [w for w in tokenized_text if not w in stop_words]\n",
    "    return filtered_text\n",
    "\n",
    "\n",
    "# counts positive words in sentence\n",
    "def add_positive_words(tokens):\n",
    "    count = 0\n",
    "    for token in tokens:\n",
    "        if token in postive_words:\n",
    "            count += 1\n",
    "    return count\n",
    "\n",
    "# counts negative words in sentence\n",
    "def add_negative_words(tokens):\n",
    "    count = 0\n",
    "    for token in tokens:\n",
    "        if token in negative_words:\n",
    "            count += 1\n",
    "    return count\n",
    "\n",
    "# calculates average sentiment from text if value > 0 then positive, if value < 0 then negative, if value == 0 then neutral\n",
    "def average_word_sentiment(tokens):\n",
    "    if len(tokens) == 0:\n",
    "        return 0\n",
    "    pos = add_positive_words(tokens)\n",
    "    neg = add_negative_words(tokens)\n",
    "    avg = (pos-neg) / (len(tokens))\n",
    "    return avg\n",
    "\n",
    "def get_neg_indexes(words):\n",
    "    indexes = []\n",
    "    i = 0\n",
    "    for word in words:\n",
    "        if word in negation_words:\n",
    "            indexes.append(i)\n",
    "        i += 1\n",
    "    return indexes\n",
    "\n",
    "def antonyms(text:str):\n",
    "    words = text.split()\n",
    "    indexes = get_neg_indexes(words)\n",
    "    while indexes != []:\n",
    "        i = indexes[0]\n",
    "        words[i+1] = wordnet\n",
    "        words = words.pop(i)\n",
    "        indexes = indexes.pop(0)\n",
    "        indexes -= 1\n",
    "        \n",
    "    return\n",
    "\n",
    "df[\"clean_text_tokenized\"] = df[\"text\"].apply(lower_punctuation_no_numbers)\n",
    "\n",
    "df[\"clean_text_tokenized\"] = df[\"clean_text_tokenized\"].apply(remove_stop_words)\n",
    "df[\"postive_word_count\"] = df[\"clean_text_tokenized\"].apply(add_positive_words)\n",
    "df[\"negative_word_count\"] = df[\"clean_text_tokenized\"].apply(add_negative_words)\n",
    "df[\"avg_sentiment_of_words\"] = df[\"clean_text_tokenized\"].apply(average_word_sentiment)\n",
    "\n",
    "# map the sentiments to a number\n",
    "mapping = {\n",
    "    \"negative\": 0,\n",
    "    \"neutral\": 1,\n",
    "    \"positive\": 2\n",
    "}\n",
    "\n",
    "\n",
    "df[\"labels\"] = df[\"sentiment\"].map(mapping)\n",
    "df\n",
    "    "
   ]
  },
  {
   "cell_type": "markdown",
   "metadata": {},
   "source": [
    "Nu dat de pre-processing stappen zijn voltooid kunnen we beginnen aan het trainen van het model."
   ]
  },
  {
   "cell_type": "code",
   "execution_count": 11,
   "metadata": {},
   "outputs": [
    {
     "name": "stdout",
     "output_type": "stream",
     "text": [
      "Training model....\n"
     ]
    },
    {
     "data": {
      "text/plain": [
       "(1208, 7)"
      ]
     },
     "execution_count": 11,
     "metadata": {},
     "output_type": "execute_result"
    }
   ],
   "source": [
    "# split data into train, test and validation\n",
    "sentences = df[\"clean_text_tokenized\"]\n",
    "\n",
    "# Creating the model and setting values for the various parameters\n",
    "num_features = 100  # Word vector dimensionality\n",
    "min_word_count = 2 # Minimum word count to get included in model\n",
    "num_workers = 4     # Number of parallel threads\n",
    "context = 10        # Context window size\n",
    "downsampling = 1e-3 # (0.001) Downsample setting for frequent words\n",
    "\n",
    "# Initializing the train model\n",
    "print(\"Training model....\")\n",
    "model = word2vec.Word2Vec(sentences,\\\n",
    "                          workers=num_workers,\\\n",
    "                          vector_size=num_features,\\\n",
    "                          min_count=min_word_count,\\\n",
    "                          window=context,\n",
    "                          sample=downsampling)\n",
    "\n",
    "model.init_sims(replace=True)\n",
    "model.train(sentences, total_examples= len(df['clean_text_tokenized']), epochs=20)\n",
    "df.shape"
   ]
  },
  {
   "cell_type": "markdown",
   "metadata": {},
   "source": [
    "Nu gaan we Word2Vec features maken voor het model"
   ]
  },
  {
   "cell_type": "code",
   "execution_count": 12,
   "metadata": {},
   "outputs": [],
   "source": [
    "def word_vector(tokens, size):\n",
    "    vec = np.zeros(size).reshape((1, size))\n",
    "    count = 0\n",
    "    for word in tokens:\n",
    "        try:\n",
    "            vec += model.wv[word].reshape((1, size))\n",
    "            count += 1.\n",
    "        except KeyError:  # handling the case where the token is not in vocabulary\n",
    "            continue\n",
    "    if count != 0:\n",
    "        vec /= count\n",
    "    return vec\n"
   ]
  },
  {
   "cell_type": "code",
   "execution_count": 15,
   "metadata": {},
   "outputs": [
    {
     "data": {
      "text/plain": [
       "(1208, 100)"
      ]
     },
     "execution_count": 15,
     "metadata": {},
     "output_type": "execute_result"
    }
   ],
   "source": [
    "wordvec_arrays = np.zeros((len(sentences), 100)) \n",
    "for i in range(len(sentences)):\n",
    "    wordvec_arrays[i,:] = word_vector(sentences[i], 100)\n",
    "wordvec_df = pd.DataFrame(wordvec_arrays)\n",
    "wordvec_df.shape"
   ]
  },
  {
   "cell_type": "markdown",
   "metadata": {},
   "source": [
    "Nu dat we de Word2Vec features hebben gemaakt gaan we voor nu een Random Forest Classifier gebruiken om sentiment te bepalen. (Later kunnen er meerdere modellen getest worden, dit is nu puur voor een proof of concept)."
   ]
  },
  {
   "cell_type": "code",
   "execution_count": 17,
   "metadata": {},
   "outputs": [
    {
     "name": "stdout",
     "output_type": "stream",
     "text": [
      "(1208, 207)\n"
     ]
    },
    {
     "data": {
      "image/png": "[encoded data removed]",
      "text/plain": [
       "<Figure size 640x480 with 2 Axes>"
      ]
     },
     "metadata": {},
     "output_type": "display_data"
    },
    {
     "name": "stdout",
     "output_type": "stream",
     "text": [
      "F1 score\n"
     ]
    },
    {
     "data": {
      "text/plain": [
       "0.732448866777225"
      ]
     },
     "execution_count": 17,
     "metadata": {},
     "output_type": "execute_result"
    }
   ],
   "source": [
    "df = df.join(wordvec_df, rsuffix=\"_wordvec\")\n",
    "print(df.shape)\n",
    "X = df.drop([\"labels\",\"sentiment\",\"text\",\"clean_text_tokenized\"], axis=1)\n",
    "X.columns = X.columns.astype(str)\n",
    "y = df[\"labels\"]\n",
    "X_train, X_test, y_train, y_test = train_test_split(X, y, test_size=0.2, random_state=42)\n",
    "\n",
    "rand_forest = RandomForestClassifier(n_estimators=200)\n",
    "rand_forest.fit(X_train, y_train)\n",
    "y_pred = rand_forest.predict(X_test)\n",
    "\n",
    "mapping = {\n",
    "    \"negative\": 0,\n",
    "    \"positive\": 1 \n",
    "}\n",
    "\n",
    "cm = sklearn.metrics.confusion_matrix(y_test, y_pred, normalize='true')\n",
    "disp = sklearn.metrics.ConfusionMatrixDisplay(confusion_matrix=cm, display_labels=mapping.values())\n",
    "disp.plot()\n",
    "plt.show()\n",
    "\n",
    "print(\"F1 score\")\n",
    "sklearn.metrics.f1_score(y_test, y_pred, average=\"macro\")"
   ]
  },
  {
   "cell_type": "markdown",
   "metadata": {},
   "source": [
    "Bronnen:\n",
    "\n",
    "[1] Sinha, A. (2020). Sentiment analysis for financial news [Dataset]. Kaggle. Retrieved from https://www.kaggle.com/datasets/ankurzing/sentiment-analysis-for-financial-news\n",
    "\n",
    "[2] Varun, D. (2018). Sentiment analysis using Word2Vec. Kaggle. Retrieved from https://www.kaggle.com/code/varun08/sentiment-analysis-using-word2vec\n",
    "\n",
    "[3] Nitin, G. (2019). Twitter sentiment analysis - word2vec, doc2vec. Kaggle. Retrieved from https://www.kaggle.com/code/nitin194/twitter-sentiment-analysis-word2vec-doc2vec\n",
    "\n",
    "[4] Kanad, P. (2024). Sentiment analysis word lists dataset [Dataset]. Kaggle. Retrieved from https://www.kaggle.com/datasets/prajwalkanade/sentiment-analysis-word-lists-dataset?resource=download"
   ]
  }
 ],
 "metadata": {
  "kernelspec": {
   "display_name": "Python 3",
   "language": "python",
   "name": "python3"
  },
  "language_info": {
   "codemirror_mode": {
    "name": "ipython",
    "version": 3
   },
   "file_extension": ".py",
   "mimetype": "text/x-python",
   "name": "python",
   "nbconvert_exporter": "python",
   "pygments_lexer": "ipython3",
   "version": "3.11.4"
  }
 },
 "nbformat": 4,
 "nbformat_minor": 2
}
