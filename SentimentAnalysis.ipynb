{
 "cells": [
  {
   "cell_type": "markdown",
   "metadata": {},
   "source": [
    "In dit notebook gaan we financiële niews artikelen proberen te classificeren aan de hand van een word2vec model. Eerst gaan er pre-processing stappen plaats vinden om de data schoon te maken zodat dit gebruikt kan worden voor het trainen van het llm model. Dit llm model wordt dan gebruikt om features te maken zodat deze gebruikt kunnen worden door een classificatie model. Dit model probeert dan te voorspellen wat het sentiment is van een nieuws artikel en wordt vervolgens gebruikt om een advies te genereren (via een ander model/notebook die later samen gevoegd gebracht worden middels een API). Dit notebook is puur voor het trainen het/de model(len).\n",
    "\n",
    "Om een begin te maken aan dit notebook is er gebruik gemaakt van een financial news dataset [1] op kaggle om dit model op te trainen. Ook is dit notebook gebasseerd op tutorials van kaggle [2][3] en zijn er aanpassing gemaakt zodat dit kan werken op ons probleem."
   ]
  },
  {
   "cell_type": "code",
   "execution_count": 122,
   "metadata": {},
   "outputs": [],
   "source": [
    "#Import libraries\n",
    "\n",
    "import re    # for regular expressions \n",
    "import nltk  # for text manipulation \n",
    "import string \n",
    "import warnings \n",
    "import numpy as np \n",
    "import pandas as pd \n",
    "import seaborn as sns \n",
    "import matplotlib.pyplot as plt\n",
    "import kagglehub\n",
    "import string\n",
    "import re\n",
    "from gensim.models import word2vec\n",
    "from nltk.corpus import stopwords\n",
    "from nltk.tokenize import word_tokenize\n",
    "from sklearn.model_selection import train_test_split\n",
    "from sklearn.ensemble import RandomForestClassifier\n",
    "import sklearn.metrics\n",
    "\n",
    "pd.set_option(\"display.max_colwidth\", 200) \n",
    "warnings.filterwarnings(\"ignore\", category=DeprecationWarning) "
   ]
  },
  {
   "cell_type": "markdown",
   "metadata": {},
   "source": [
    "Als eerst wordt de besproken dataset van financieel nieuws ingeladen. Als extra bijkomstigheid laden we ook 2 woorden lijsten [4] in die al geclassificeerd zijn als positief of negatief (Alle woorden die hier niet tussen staan worden als neutraal beschouwd)"
   ]
  },
  {
   "cell_type": "code",
   "execution_count": 123,
   "metadata": {},
   "outputs": [
    {
     "name": "stdout",
     "output_type": "stream",
     "text": [
      "Path to dataset files: C:\\Users\\nicne\\.cache\\kagglehub\\datasets\\ankurzing\\sentiment-analysis-for-financial-news\\versions\\5\n"
     ]
    }
   ],
   "source": [
    "# Download latest version\n",
    "path = kagglehub.dataset_download(\"ankurzing/sentiment-analysis-for-financial-news\")\n",
    "\n",
    "print(\"Path to dataset files:\", path)\n",
    "\n",
    "postive_words_file = open(\"positive-words.txt\", \"r\")\n",
    "negative_words_file = open(\"negative-words.txt\", \"r\")\n",
    "\n",
    "postive_words = postive_words_file.readlines()\n",
    "negative_words = negative_words_file.readlines()\n",
    "\n",
    "postive_words = set(map(lambda w: w.replace(\"\\n\", \"\"), postive_words))\n",
    "negative_words = set(map(lambda w: w.replace(\"\\n\", \"\"), negative_words))\n"
   ]
  },
  {
   "cell_type": "markdown",
   "metadata": {},
   "source": [
    "Voordat we verder gaat met de rest moeten we eerst even naar het gegeven pad gaan om de file \"all-data.csv\" te kopiëren naar het project. Het direct gebruik maken van het pad voor het lezen van de file geeft een permission denied error."
   ]
  },
  {
   "cell_type": "code",
   "execution_count": 124,
   "metadata": {},
   "outputs": [
    {
     "data": {
      "text/html": [
       "<div>\n",
       "<style scoped>\n",
       "    .dataframe tbody tr th:only-of-type {\n",
       "        vertical-align: middle;\n",
       "    }\n",
       "\n",
       "    .dataframe tbody tr th {\n",
       "        vertical-align: top;\n",
       "    }\n",
       "\n",
       "    .dataframe thead th {\n",
       "        text-align: right;\n",
       "    }\n",
       "</style>\n",
       "<table border=\"1\" class=\"dataframe\">\n",
       "  <thead>\n",
       "    <tr style=\"text-align: right;\">\n",
       "      <th></th>\n",
       "      <th>sentiment</th>\n",
       "      <th>text</th>\n",
       "    </tr>\n",
       "  </thead>\n",
       "  <tbody>\n",
       "    <tr>\n",
       "      <th>0</th>\n",
       "      <td>neutral</td>\n",
       "      <td>According to Gran , the company has no plans to move all production to Russia , although that is where the company is growing .</td>\n",
       "    </tr>\n",
       "    <tr>\n",
       "      <th>1</th>\n",
       "      <td>neutral</td>\n",
       "      <td>Technopolis plans to develop in stages an area of no less than 100,000 square meters in order to host companies working in computer technologies and telecommunications , the statement said .</td>\n",
       "    </tr>\n",
       "    <tr>\n",
       "      <th>2</th>\n",
       "      <td>negative</td>\n",
       "      <td>The international electronic industry company Elcoteq has laid off tens of employees from its Tallinn facility ; contrary to earlier layoffs the company contracted the ranks of its office workers ...</td>\n",
       "    </tr>\n",
       "    <tr>\n",
       "      <th>3</th>\n",
       "      <td>positive</td>\n",
       "      <td>With the new production plant the company would increase its capacity to meet the expected increase in demand and would improve the use of raw materials and therefore increase the production profi...</td>\n",
       "    </tr>\n",
       "    <tr>\n",
       "      <th>4</th>\n",
       "      <td>positive</td>\n",
       "      <td>According to the company 's updated strategy for the years 2009-2012 , Basware targets a long-term net sales growth in the range of 20 % -40 % with an operating profit margin of 10 % -20 % of net ...</td>\n",
       "    </tr>\n",
       "    <tr>\n",
       "      <th>...</th>\n",
       "      <td>...</td>\n",
       "      <td>...</td>\n",
       "    </tr>\n",
       "    <tr>\n",
       "      <th>4841</th>\n",
       "      <td>negative</td>\n",
       "      <td>LONDON MarketWatch -- Share prices ended lower in London Monday as a rebound in bank stocks failed to offset broader weakness for the FTSE 100 .</td>\n",
       "    </tr>\n",
       "    <tr>\n",
       "      <th>4842</th>\n",
       "      <td>neutral</td>\n",
       "      <td>Rinkuskiai 's beer sales fell by 6.5 per cent to 4.16 million litres , while Kauno Alus ' beer sales jumped by 6.9 per cent to 2.48 million litres .</td>\n",
       "    </tr>\n",
       "    <tr>\n",
       "      <th>4843</th>\n",
       "      <td>negative</td>\n",
       "      <td>Operating profit fell to EUR 35.4 mn from EUR 68.8 mn in 2007 , including vessel sales gain of EUR 12.3 mn .</td>\n",
       "    </tr>\n",
       "    <tr>\n",
       "      <th>4844</th>\n",
       "      <td>negative</td>\n",
       "      <td>Net sales of the Paper segment decreased to EUR 221.6 mn in the second quarter of 2009 from EUR 241.1 mn in the second quarter of 2008 , while operating profit excluding non-recurring items rose t...</td>\n",
       "    </tr>\n",
       "    <tr>\n",
       "      <th>4845</th>\n",
       "      <td>negative</td>\n",
       "      <td>Sales in Finland decreased by 10.5 % in January , while sales outside Finland dropped by 17 % .</td>\n",
       "    </tr>\n",
       "  </tbody>\n",
       "</table>\n",
       "<p>4846 rows × 2 columns</p>\n",
       "</div>"
      ],
      "text/plain": [
       "     sentiment  \\\n",
       "0      neutral   \n",
       "1      neutral   \n",
       "2     negative   \n",
       "3     positive   \n",
       "4     positive   \n",
       "...        ...   \n",
       "4841  negative   \n",
       "4842   neutral   \n",
       "4843  negative   \n",
       "4844  negative   \n",
       "4845  negative   \n",
       "\n",
       "                                                                                                                                                                                                         text  \n",
       "0                                                                             According to Gran , the company has no plans to move all production to Russia , although that is where the company is growing .  \n",
       "1              Technopolis plans to develop in stages an area of no less than 100,000 square meters in order to host companies working in computer technologies and telecommunications , the statement said .  \n",
       "2     The international electronic industry company Elcoteq has laid off tens of employees from its Tallinn facility ; contrary to earlier layoffs the company contracted the ranks of its office workers ...  \n",
       "3     With the new production plant the company would increase its capacity to meet the expected increase in demand and would improve the use of raw materials and therefore increase the production profi...  \n",
       "4     According to the company 's updated strategy for the years 2009-2012 , Basware targets a long-term net sales growth in the range of 20 % -40 % with an operating profit margin of 10 % -20 % of net ...  \n",
       "...                                                                                                                                                                                                       ...  \n",
       "4841                                                         LONDON MarketWatch -- Share prices ended lower in London Monday as a rebound in bank stocks failed to offset broader weakness for the FTSE 100 .  \n",
       "4842                                                     Rinkuskiai 's beer sales fell by 6.5 per cent to 4.16 million litres , while Kauno Alus ' beer sales jumped by 6.9 per cent to 2.48 million litres .  \n",
       "4843                                                                                             Operating profit fell to EUR 35.4 mn from EUR 68.8 mn in 2007 , including vessel sales gain of EUR 12.3 mn .  \n",
       "4844  Net sales of the Paper segment decreased to EUR 221.6 mn in the second quarter of 2009 from EUR 241.1 mn in the second quarter of 2008 , while operating profit excluding non-recurring items rose t...  \n",
       "4845                                                                                                          Sales in Finland decreased by 10.5 % in January , while sales outside Finland dropped by 17 % .  \n",
       "\n",
       "[4846 rows x 2 columns]"
      ]
     },
     "execution_count": 124,
     "metadata": {},
     "output_type": "execute_result"
    }
   ],
   "source": [
    "#read the data\n",
    "df = pd.read_csv(\"all-data.csv\", names=[\"sentiment\", \"text\"],encoding=\"utf-8\", encoding_errors=\"replace\")\n",
    "df"
   ]
  },
  {
   "cell_type": "markdown",
   "metadata": {},
   "source": [
    "Nu dat de data is ingelezen gaan we beginnen met data exploratie. "
   ]
  },
  {
   "cell_type": "code",
   "execution_count": 125,
   "metadata": {},
   "outputs": [
    {
     "data": {
      "text/html": [
       "<div>\n",
       "<style scoped>\n",
       "    .dataframe tbody tr th:only-of-type {\n",
       "        vertical-align: middle;\n",
       "    }\n",
       "\n",
       "    .dataframe tbody tr th {\n",
       "        vertical-align: top;\n",
       "    }\n",
       "\n",
       "    .dataframe thead th {\n",
       "        text-align: right;\n",
       "    }\n",
       "</style>\n",
       "<table border=\"1\" class=\"dataframe\">\n",
       "  <thead>\n",
       "    <tr style=\"text-align: right;\">\n",
       "      <th></th>\n",
       "      <th>sentiment</th>\n",
       "      <th>text</th>\n",
       "    </tr>\n",
       "  </thead>\n",
       "  <tbody>\n",
       "    <tr>\n",
       "      <th>3</th>\n",
       "      <td>positive</td>\n",
       "      <td>With the new production plant the company would increase its capacity to meet the expected increase in demand and would improve the use of raw materials and therefore increase the production profi...</td>\n",
       "    </tr>\n",
       "    <tr>\n",
       "      <th>4</th>\n",
       "      <td>positive</td>\n",
       "      <td>According to the company 's updated strategy for the years 2009-2012 , Basware targets a long-term net sales growth in the range of 20 % -40 % with an operating profit margin of 10 % -20 % of net ...</td>\n",
       "    </tr>\n",
       "    <tr>\n",
       "      <th>5</th>\n",
       "      <td>positive</td>\n",
       "      <td>FINANCING OF ASPOCOMP 'S GROWTH Aspocomp is aggressively pursuing its growth strategy by increasingly focusing on technologically more demanding HDI printed circuit boards PCBs .</td>\n",
       "    </tr>\n",
       "    <tr>\n",
       "      <th>6</th>\n",
       "      <td>positive</td>\n",
       "      <td>For the last quarter of 2010 , Componenta 's net sales doubled to EUR131m from EUR76m for the same period a year earlier , while it moved to a zero pre-tax profit from a pre-tax loss of EUR7m .</td>\n",
       "    </tr>\n",
       "    <tr>\n",
       "      <th>7</th>\n",
       "      <td>positive</td>\n",
       "      <td>In the third quarter of 2010 , net sales increased by 5.2 % to EUR 205.5 mn , and operating profit by 34.9 % to EUR 23.5 mn .</td>\n",
       "    </tr>\n",
       "    <tr>\n",
       "      <th>...</th>\n",
       "      <td>...</td>\n",
       "      <td>...</td>\n",
       "    </tr>\n",
       "    <tr>\n",
       "      <th>4775</th>\n",
       "      <td>positive</td>\n",
       "      <td>The apartment block will be well-located , in easy reach of the city center and close to both a school and kindergarten .</td>\n",
       "    </tr>\n",
       "    <tr>\n",
       "      <th>4780</th>\n",
       "      <td>positive</td>\n",
       "      <td>The antibody , given at repeated doses of up to 8 mg-kg , was generally well tolerated , and the pharmacokinetic characteristics of BTT-1023 in psoriasis patients were consistent with those observ...</td>\n",
       "    </tr>\n",
       "    <tr>\n",
       "      <th>4786</th>\n",
       "      <td>positive</td>\n",
       "      <td>Danske Bank A-S DANSKE DC jumped 3.7 percent to 133.4 kroner , rebounding from yesterday s 3.5 percent slide .</td>\n",
       "    </tr>\n",
       "    <tr>\n",
       "      <th>4787</th>\n",
       "      <td>positive</td>\n",
       "      <td>Our superior customer centricity and expertise in digital services set us apart from our competitors .</td>\n",
       "    </tr>\n",
       "    <tr>\n",
       "      <th>4822</th>\n",
       "      <td>positive</td>\n",
       "      <td>The 2015 target for net sales has been set at EUR 1bn and the target for return on investment at over 20 % .</td>\n",
       "    </tr>\n",
       "  </tbody>\n",
       "</table>\n",
       "<p>1363 rows × 2 columns</p>\n",
       "</div>"
      ],
      "text/plain": [
       "     sentiment  \\\n",
       "3     positive   \n",
       "4     positive   \n",
       "5     positive   \n",
       "6     positive   \n",
       "7     positive   \n",
       "...        ...   \n",
       "4775  positive   \n",
       "4780  positive   \n",
       "4786  positive   \n",
       "4787  positive   \n",
       "4822  positive   \n",
       "\n",
       "                                                                                                                                                                                                         text  \n",
       "3     With the new production plant the company would increase its capacity to meet the expected increase in demand and would improve the use of raw materials and therefore increase the production profi...  \n",
       "4     According to the company 's updated strategy for the years 2009-2012 , Basware targets a long-term net sales growth in the range of 20 % -40 % with an operating profit margin of 10 % -20 % of net ...  \n",
       "5                          FINANCING OF ASPOCOMP 'S GROWTH Aspocomp is aggressively pursuing its growth strategy by increasingly focusing on technologically more demanding HDI printed circuit boards PCBs .  \n",
       "6           For the last quarter of 2010 , Componenta 's net sales doubled to EUR131m from EUR76m for the same period a year earlier , while it moved to a zero pre-tax profit from a pre-tax loss of EUR7m .  \n",
       "7                                                                               In the third quarter of 2010 , net sales increased by 5.2 % to EUR 205.5 mn , and operating profit by 34.9 % to EUR 23.5 mn .  \n",
       "...                                                                                                                                                                                                       ...  \n",
       "4775                                                                                The apartment block will be well-located , in easy reach of the city center and close to both a school and kindergarten .  \n",
       "4780  The antibody , given at repeated doses of up to 8 mg-kg , was generally well tolerated , and the pharmacokinetic characteristics of BTT-1023 in psoriasis patients were consistent with those observ...  \n",
       "4786                                                                                           Danske Bank A-S DANSKE DC jumped 3.7 percent to 133.4 kroner , rebounding from yesterday s 3.5 percent slide .  \n",
       "4787                                                                                                   Our superior customer centricity and expertise in digital services set us apart from our competitors .  \n",
       "4822                                                                                             The 2015 target for net sales has been set at EUR 1bn and the target for return on investment at over 20 % .  \n",
       "\n",
       "[1363 rows x 2 columns]"
      ]
     },
     "execution_count": 125,
     "metadata": {},
     "output_type": "execute_result"
    }
   ],
   "source": [
    "# Mocht je een andere sentiment willen zien dan moet je de geactiveerde lijn commenten en de gewenste lijn uncommenten.\n",
    "\n",
    "# Hoe zien de positieve sentimenten er uit\n",
    "df[df[\"sentiment\"] == \"positive\"]\n",
    "\n",
    "# Hoe zien de neutrale sentimenten er uit\n",
    "#df[df[\"sentiment\"] == \"neutral\"]\n",
    "\n",
    "# Hoe zien de negatieve sentimenten er uit\n",
    "#df[df[\"sentiment\"] == \"negative\"]\n"
   ]
  },
  {
   "cell_type": "markdown",
   "metadata": {},
   "source": [
    "Nu gaan we kijken naar hoeveel woorden elke tekst heeft. Na inspectie kunnen we zien dat de meeste teksten veel woorden hebben. Hier zouden we potentiëel goede word embedding maken."
   ]
  },
  {
   "cell_type": "code",
   "execution_count": 126,
   "metadata": {},
   "outputs": [
    {
     "data": {
      "image/png": "[encoded data removed]",
      "text/plain": [
       "<Figure size 640x480 with 1 Axes>"
      ]
     },
     "metadata": {},
     "output_type": "display_data"
    }
   ],
   "source": [
    "plt.hist(df.text.str.len(), bins=20, label='text words')\n",
    "plt.legend()\n",
    "plt.show()"
   ]
  },
  {
   "cell_type": "markdown",
   "metadata": {},
   "source": [
    "Nu kunnen we gaan beginnen met de eerste pre-processing stappen. Om te beginnen wordt alles naar lower case gebracht en wordt interpunctie verwijderd. Later worden er stopwoorden verwijderd."
   ]
  },
  {
   "cell_type": "code",
   "execution_count": 127,
   "metadata": {},
   "outputs": [
    {
     "data": {
      "text/html": [
       "<div>\n",
       "<style scoped>\n",
       "    .dataframe tbody tr th:only-of-type {\n",
       "        vertical-align: middle;\n",
       "    }\n",
       "\n",
       "    .dataframe tbody tr th {\n",
       "        vertical-align: top;\n",
       "    }\n",
       "\n",
       "    .dataframe thead th {\n",
       "        text-align: right;\n",
       "    }\n",
       "</style>\n",
       "<table border=\"1\" class=\"dataframe\">\n",
       "  <thead>\n",
       "    <tr style=\"text-align: right;\">\n",
       "      <th></th>\n",
       "      <th>sentiment</th>\n",
       "      <th>text</th>\n",
       "      <th>clean_text_tokenized</th>\n",
       "      <th>postive_word_count</th>\n",
       "      <th>negative_word_count</th>\n",
       "      <th>avg_sentiment_of_words</th>\n",
       "      <th>labels</th>\n",
       "    </tr>\n",
       "  </thead>\n",
       "  <tbody>\n",
       "    <tr>\n",
       "      <th>0</th>\n",
       "      <td>neutral</td>\n",
       "      <td>According to Gran , the company has no plans to move all production to Russia , although that is where the company is growing .</td>\n",
       "      <td>[according, gran, company, no, plans, move, production, russia, although, company, growing]</td>\n",
       "      <td>0</td>\n",
       "      <td>0</td>\n",
       "      <td>0.000000</td>\n",
       "      <td>1</td>\n",
       "    </tr>\n",
       "    <tr>\n",
       "      <th>1</th>\n",
       "      <td>neutral</td>\n",
       "      <td>Technopolis plans to develop in stages an area of no less than 100,000 square meters in order to host companies working in computer technologies and telecommunications , the statement said .</td>\n",
       "      <td>[technopolis, plans, develop, stages, area, no, less, square, meters, order, host, companies, working, computer, technologies, telecommunications, statement, said]</td>\n",
       "      <td>0</td>\n",
       "      <td>0</td>\n",
       "      <td>0.000000</td>\n",
       "      <td>1</td>\n",
       "    </tr>\n",
       "    <tr>\n",
       "      <th>2</th>\n",
       "      <td>negative</td>\n",
       "      <td>The international electronic industry company Elcoteq has laid off tens of employees from its Tallinn facility ; contrary to earlier layoffs the company contracted the ranks of its office workers ...</td>\n",
       "      <td>[international, electronic, industry, company, elcoteq, laid, tens, employees, tallinn, facility, contrary, earlier, layoffs, company, contracted, ranks, office, workers, daily, postimees, reported]</td>\n",
       "      <td>0</td>\n",
       "      <td>0</td>\n",
       "      <td>0.000000</td>\n",
       "      <td>0</td>\n",
       "    </tr>\n",
       "    <tr>\n",
       "      <th>3</th>\n",
       "      <td>positive</td>\n",
       "      <td>With the new production plant the company would increase its capacity to meet the expected increase in demand and would improve the use of raw materials and therefore increase the production profi...</td>\n",
       "      <td>[new, production, plant, company, would, increase, capacity, meet, expected, increase, demand, would, improve, use, raw, materials, therefore, increase, production, profitability]</td>\n",
       "      <td>1</td>\n",
       "      <td>0</td>\n",
       "      <td>0.050000</td>\n",
       "      <td>2</td>\n",
       "    </tr>\n",
       "    <tr>\n",
       "      <th>4</th>\n",
       "      <td>positive</td>\n",
       "      <td>According to the company 's updated strategy for the years 2009-2012 , Basware targets a long-term net sales growth in the range of 20 % -40 % with an operating profit margin of 10 % -20 % of net ...</td>\n",
       "      <td>[according, company, updated, strategy, years, basware, targets, longterm, net, sales, growth, range, operating, profit, margin, net, sales]</td>\n",
       "      <td>0</td>\n",
       "      <td>0</td>\n",
       "      <td>0.000000</td>\n",
       "      <td>2</td>\n",
       "    </tr>\n",
       "    <tr>\n",
       "      <th>...</th>\n",
       "      <td>...</td>\n",
       "      <td>...</td>\n",
       "      <td>...</td>\n",
       "      <td>...</td>\n",
       "      <td>...</td>\n",
       "      <td>...</td>\n",
       "      <td>...</td>\n",
       "    </tr>\n",
       "    <tr>\n",
       "      <th>4841</th>\n",
       "      <td>negative</td>\n",
       "      <td>LONDON MarketWatch -- Share prices ended lower in London Monday as a rebound in bank stocks failed to offset broader weakness for the FTSE 100 .</td>\n",
       "      <td>[london, marketwatch, share, prices, ended, lower, london, monday, rebound, bank, stocks, failed, offset, broader, weakness, ftse]</td>\n",
       "      <td>0</td>\n",
       "      <td>2</td>\n",
       "      <td>-0.125000</td>\n",
       "      <td>0</td>\n",
       "    </tr>\n",
       "    <tr>\n",
       "      <th>4842</th>\n",
       "      <td>neutral</td>\n",
       "      <td>Rinkuskiai 's beer sales fell by 6.5 per cent to 4.16 million litres , while Kauno Alus ' beer sales jumped by 6.9 per cent to 2.48 million litres .</td>\n",
       "      <td>[rinkuskiai, beer, sales, fell, per, cent, million, litres, kauno, alus, beer, sales, jumped, per, cent, million, litres]</td>\n",
       "      <td>0</td>\n",
       "      <td>1</td>\n",
       "      <td>-0.058824</td>\n",
       "      <td>1</td>\n",
       "    </tr>\n",
       "    <tr>\n",
       "      <th>4843</th>\n",
       "      <td>negative</td>\n",
       "      <td>Operating profit fell to EUR 35.4 mn from EUR 68.8 mn in 2007 , including vessel sales gain of EUR 12.3 mn .</td>\n",
       "      <td>[operating, profit, fell, eur, mn, eur, mn, including, vessel, sales, gain, eur, mn]</td>\n",
       "      <td>1</td>\n",
       "      <td>1</td>\n",
       "      <td>0.000000</td>\n",
       "      <td>0</td>\n",
       "    </tr>\n",
       "    <tr>\n",
       "      <th>4844</th>\n",
       "      <td>negative</td>\n",
       "      <td>Net sales of the Paper segment decreased to EUR 221.6 mn in the second quarter of 2009 from EUR 241.1 mn in the second quarter of 2008 , while operating profit excluding non-recurring items rose t...</td>\n",
       "      <td>[net, sales, paper, segment, decreased, eur, mn, second, quarter, eur, mn, second, quarter, operating, profit, excluding, nonrecurring, items, rose, eur, mn, eur, mn]</td>\n",
       "      <td>0</td>\n",
       "      <td>0</td>\n",
       "      <td>0.000000</td>\n",
       "      <td>0</td>\n",
       "    </tr>\n",
       "    <tr>\n",
       "      <th>4845</th>\n",
       "      <td>negative</td>\n",
       "      <td>Sales in Finland decreased by 10.5 % in January , while sales outside Finland dropped by 17 % .</td>\n",
       "      <td>[sales, finland, decreased, january, sales, outside, finland, dropped]</td>\n",
       "      <td>0</td>\n",
       "      <td>0</td>\n",
       "      <td>0.000000</td>\n",
       "      <td>0</td>\n",
       "    </tr>\n",
       "  </tbody>\n",
       "</table>\n",
       "<p>4846 rows × 7 columns</p>\n",
       "</div>"
      ],
      "text/plain": [
       "     sentiment  \\\n",
       "0      neutral   \n",
       "1      neutral   \n",
       "2     negative   \n",
       "3     positive   \n",
       "4     positive   \n",
       "...        ...   \n",
       "4841  negative   \n",
       "4842   neutral   \n",
       "4843  negative   \n",
       "4844  negative   \n",
       "4845  negative   \n",
       "\n",
       "                                                                                                                                                                                                         text  \\\n",
       "0                                                                             According to Gran , the company has no plans to move all production to Russia , although that is where the company is growing .   \n",
       "1              Technopolis plans to develop in stages an area of no less than 100,000 square meters in order to host companies working in computer technologies and telecommunications , the statement said .   \n",
       "2     The international electronic industry company Elcoteq has laid off tens of employees from its Tallinn facility ; contrary to earlier layoffs the company contracted the ranks of its office workers ...   \n",
       "3     With the new production plant the company would increase its capacity to meet the expected increase in demand and would improve the use of raw materials and therefore increase the production profi...   \n",
       "4     According to the company 's updated strategy for the years 2009-2012 , Basware targets a long-term net sales growth in the range of 20 % -40 % with an operating profit margin of 10 % -20 % of net ...   \n",
       "...                                                                                                                                                                                                       ...   \n",
       "4841                                                         LONDON MarketWatch -- Share prices ended lower in London Monday as a rebound in bank stocks failed to offset broader weakness for the FTSE 100 .   \n",
       "4842                                                     Rinkuskiai 's beer sales fell by 6.5 per cent to 4.16 million litres , while Kauno Alus ' beer sales jumped by 6.9 per cent to 2.48 million litres .   \n",
       "4843                                                                                             Operating profit fell to EUR 35.4 mn from EUR 68.8 mn in 2007 , including vessel sales gain of EUR 12.3 mn .   \n",
       "4844  Net sales of the Paper segment decreased to EUR 221.6 mn in the second quarter of 2009 from EUR 241.1 mn in the second quarter of 2008 , while operating profit excluding non-recurring items rose t...   \n",
       "4845                                                                                                          Sales in Finland decreased by 10.5 % in January , while sales outside Finland dropped by 17 % .   \n",
       "\n",
       "                                                                                                                                                                                        clean_text_tokenized  \\\n",
       "0                                                                                                                [according, gran, company, no, plans, move, production, russia, although, company, growing]   \n",
       "1                                        [technopolis, plans, develop, stages, area, no, less, square, meters, order, host, companies, working, computer, technologies, telecommunications, statement, said]   \n",
       "2     [international, electronic, industry, company, elcoteq, laid, tens, employees, tallinn, facility, contrary, earlier, layoffs, company, contracted, ranks, office, workers, daily, postimees, reported]   \n",
       "3                        [new, production, plant, company, would, increase, capacity, meet, expected, increase, demand, would, improve, use, raw, materials, therefore, increase, production, profitability]   \n",
       "4                                                               [according, company, updated, strategy, years, basware, targets, longterm, net, sales, growth, range, operating, profit, margin, net, sales]   \n",
       "...                                                                                                                                                                                                      ...   \n",
       "4841                                                                      [london, marketwatch, share, prices, ended, lower, london, monday, rebound, bank, stocks, failed, offset, broader, weakness, ftse]   \n",
       "4842                                                                               [rinkuskiai, beer, sales, fell, per, cent, million, litres, kauno, alus, beer, sales, jumped, per, cent, million, litres]   \n",
       "4843                                                                                                                    [operating, profit, fell, eur, mn, eur, mn, including, vessel, sales, gain, eur, mn]   \n",
       "4844                                  [net, sales, paper, segment, decreased, eur, mn, second, quarter, eur, mn, second, quarter, operating, profit, excluding, nonrecurring, items, rose, eur, mn, eur, mn]   \n",
       "4845                                                                                                                                  [sales, finland, decreased, january, sales, outside, finland, dropped]   \n",
       "\n",
       "      postive_word_count  negative_word_count  avg_sentiment_of_words  labels  \n",
       "0                      0                    0                0.000000       1  \n",
       "1                      0                    0                0.000000       1  \n",
       "2                      0                    0                0.000000       0  \n",
       "3                      1                    0                0.050000       2  \n",
       "4                      0                    0                0.000000       2  \n",
       "...                  ...                  ...                     ...     ...  \n",
       "4841                   0                    2               -0.125000       0  \n",
       "4842                   0                    1               -0.058824       1  \n",
       "4843                   1                    1                0.000000       0  \n",
       "4844                   0                    0                0.000000       0  \n",
       "4845                   0                    0                0.000000       0  \n",
       "\n",
       "[4846 rows x 7 columns]"
      ]
     },
     "execution_count": 127,
     "metadata": {},
     "output_type": "execute_result"
    }
   ],
   "source": [
    "def lower_punctuation_no_numbers(text):\n",
    "    text = text.translate(str.maketrans('', '', string.punctuation))\n",
    "    text = re.sub(r'\\d+', '', text)\n",
    "    text = text.lower()\n",
    "    return text\n",
    "\n",
    "df[\"clean_text_tokenized\"] = df[\"text\"].apply(lower_punctuation_no_numbers)\n",
    "\n",
    "\n",
    "def remove_stop_words(text:str):\n",
    "    stop_words = set(stopwords.words(\"english\")) - set([\"no\"]) # omit the word \"no\" from stopwords, because it can contain negative sentiment\n",
    "    \n",
    "    tokenized_text = word_tokenize(text)\n",
    "\n",
    "    filtered_text = [w for w in tokenized_text if not w in stop_words]\n",
    "    return filtered_text\n",
    "\n",
    "df[\"clean_text_tokenized\"] = df[\"clean_text_tokenized\"].apply(remove_stop_words)\n",
    "\n",
    "# counts positive words in sentence\n",
    "def add_positive_words(tokens):\n",
    "    count = 0\n",
    "    for token in tokens:\n",
    "        if token in postive_words:\n",
    "            count += 1\n",
    "    return count\n",
    "\n",
    "# counts negative words in sentence\n",
    "def add_negative_words(tokens):\n",
    "    count = 0\n",
    "    for token in tokens:\n",
    "        if token in negative_words:\n",
    "            count += 1\n",
    "    return count\n",
    "\n",
    "# calculates average sentiment from text if value > 0 then positive, if value < 0 then negative, if value == 0 then neutral\n",
    "def average_word_sentiment(tokens):\n",
    "    if len(tokens) == 0:\n",
    "        return 0\n",
    "    pos = add_positive_words(tokens)\n",
    "    neg = add_negative_words(tokens)\n",
    "    avg = (pos-neg) / (len(tokens))\n",
    "    return avg\n",
    "\n",
    "\n",
    "df[\"postive_word_count\"] = df[\"clean_text_tokenized\"].apply(add_positive_words)\n",
    "df[\"negative_word_count\"] = df[\"clean_text_tokenized\"].apply(add_negative_words)\n",
    "df[\"avg_sentiment_of_words\"] = df[\"clean_text_tokenized\"].apply(average_word_sentiment)\n",
    "\n",
    "# map the sentiments to a number\n",
    "mapping = {\n",
    "    \"negative\": 0,\n",
    "    \"neutral\": 1,\n",
    "    \"positive\": 2\n",
    "}\n",
    "\n",
    "\n",
    "df[\"labels\"] = df[\"sentiment\"].map(mapping)\n",
    "df\n",
    "    "
   ]
  },
  {
   "cell_type": "markdown",
   "metadata": {},
   "source": [
    "Nu dat de pre-processing stappen zijn voltooid kunnen we beginnen aan het trainen van het model."
   ]
  },
  {
   "cell_type": "code",
   "execution_count": 128,
   "metadata": {},
   "outputs": [
    {
     "name": "stdout",
     "output_type": "stream",
     "text": [
      "Training model....\n"
     ]
    },
    {
     "data": {
      "text/plain": [
       "(4846, 7)"
      ]
     },
     "execution_count": 128,
     "metadata": {},
     "output_type": "execute_result"
    }
   ],
   "source": [
    "# split data into train, test and validation\n",
    "sentences = df[\"clean_text_tokenized\"]\n",
    "\n",
    "# Creating the model and setting values for the various parameters\n",
    "num_features = 100  # Word vector dimensionality\n",
    "min_word_count = 2 # Minimum word count to get included in model\n",
    "num_workers = 4     # Number of parallel threads\n",
    "context = 10        # Context window size\n",
    "downsampling = 1e-3 # (0.001) Downsample setting for frequent words\n",
    "\n",
    "# Initializing the train model\n",
    "print(\"Training model....\")\n",
    "model = word2vec.Word2Vec(sentences,\\\n",
    "                          workers=num_workers,\\\n",
    "                          vector_size=num_features,\\\n",
    "                          min_count=min_word_count,\\\n",
    "                          window=context,\n",
    "                          sample=downsampling)\n",
    "\n",
    "model.init_sims(replace=True)\n",
    "model.train(sentences, total_examples= len(df['clean_text_tokenized']), epochs=20)\n",
    "df.shape"
   ]
  },
  {
   "cell_type": "markdown",
   "metadata": {},
   "source": [
    "Nu gaan we Word2Vec features maken voor het model"
   ]
  },
  {
   "cell_type": "code",
   "execution_count": 129,
   "metadata": {},
   "outputs": [],
   "source": [
    "def word_vector(tokens, size):\n",
    "    vec = np.zeros(size).reshape((1, size))\n",
    "    count = 0\n",
    "    for word in tokens:\n",
    "        try:\n",
    "            vec += model.wv[word].reshape((1, size))\n",
    "            count += 1.\n",
    "        except KeyError:  # handling the case where the token is not in vocabulary\n",
    "            continue\n",
    "    if count != 0:\n",
    "        vec /= count\n",
    "    return vec\n"
   ]
  },
  {
   "cell_type": "code",
   "execution_count": 130,
   "metadata": {},
   "outputs": [
    {
     "data": {
      "text/plain": [
       "(4846, 100)"
      ]
     },
     "execution_count": 130,
     "metadata": {},
     "output_type": "execute_result"
    }
   ],
   "source": [
    "wordvec_arrays = np.zeros((len(sentences), 100)) \n",
    "for i in range(len(sentences)):\n",
    "    wordvec_arrays[i,:] = word_vector(sentences[i], 100)\n",
    "wordvec_df = pd.DataFrame(wordvec_arrays)\n",
    "wordvec_df.shape"
   ]
  },
  {
   "cell_type": "markdown",
   "metadata": {},
   "source": [
    "Nu dat we de Word2Vec features hebben gemaakt gaan we voor nu een Random Forest Classifier gebruiken om sentiment te bepalen. (Later kunnen er meerdere modellen getest worden, dit is nu puur voor een proof of concept)."
   ]
  },
  {
   "cell_type": "code",
   "execution_count": 131,
   "metadata": {},
   "outputs": [
    {
     "name": "stdout",
     "output_type": "stream",
     "text": [
      "(4846, 107)\n"
     ]
    },
    {
     "data": {
      "image/png": "[encoded data removed]",
      "text/plain": [
       "<Figure size 640x480 with 2 Axes>"
      ]
     },
     "metadata": {},
     "output_type": "display_data"
    },
    {
     "name": "stdout",
     "output_type": "stream",
     "text": [
      "F1 score\n"
     ]
    },
    {
     "data": {
      "text/plain": [
       "0.5659692982277695"
      ]
     },
     "execution_count": 131,
     "metadata": {},
     "output_type": "execute_result"
    }
   ],
   "source": [
    "df = df.join(wordvec_df)\n",
    "print(df.shape)\n",
    "X = df.drop([\"labels\",\"sentiment\",\"text\",\"clean_text_tokenized\"], axis=1)\n",
    "X.columns = X.columns.astype(str)\n",
    "y = df[\"labels\"]\n",
    "X_train, X_test, y_train, y_test = train_test_split(X, y, test_size=0.2, random_state=42)\n",
    "\n",
    "rand_forest = RandomForestClassifier(n_estimators=200)\n",
    "rand_forest.fit(X_train, y_train)\n",
    "y_pred = rand_forest.predict(X_test)\n",
    "\n",
    "cm = sklearn.metrics.confusion_matrix(y_test, y_pred, normalize='true')\n",
    "disp = sklearn.metrics.ConfusionMatrixDisplay(confusion_matrix=cm, display_labels=mapping.values())\n",
    "disp.plot()\n",
    "plt.show()\n",
    "\n",
    "print(\"F1 score\")\n",
    "sklearn.metrics.f1_score(y_test, y_pred, average=\"macro\")"
   ]
  },
  {
   "cell_type": "markdown",
   "metadata": {},
   "source": [
    "Bronnen:\n",
    "\n",
    "[1] Sinha, A. (2020). Sentiment analysis for financial news [Dataset]. Kaggle. Retrieved from https://www.kaggle.com/datasets/ankurzing/sentiment-analysis-for-financial-news\n",
    "\n",
    "[2] Varun, D. (2018). Sentiment analysis using Word2Vec. Kaggle. Retrieved from https://www.kaggle.com/code/varun08/sentiment-analysis-using-word2vec\n",
    "\n",
    "[3] Nitin, G. (2019). Twitter sentiment analysis - word2vec, doc2vec. Kaggle. Retrieved from https://www.kaggle.com/code/nitin194/twitter-sentiment-analysis-word2vec-doc2vec\n",
    "\n",
    "[4] Kanad, P. (2024). Sentiment analysis word lists dataset [Dataset]. Kaggle. Retrieved from https://www.kaggle.com/datasets/prajwalkanade/sentiment-analysis-word-lists-dataset?resource=download"
   ]
  }
 ],
 "metadata": {
  "kernelspec": {
   "display_name": "Python 3",
   "language": "python",
   "name": "python3"
  },
  "language_info": {
   "codemirror_mode": {
    "name": "ipython",
    "version": 3
   },
   "file_extension": ".py",
   "mimetype": "text/x-python",
   "name": "python",
   "nbconvert_exporter": "python",
   "pygments_lexer": "ipython3",
   "version": "3.12.3"
  }
 },
 "nbformat": 4,
 "nbformat_minor": 2
}
