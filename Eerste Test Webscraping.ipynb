{
 "cells": [
  {
   "cell_type": "markdown",
   "metadata": {},
   "source": [
    "# Eerste Test Webscraping Schandaal Scanner\n",
    "\n",
    "Om de data die van een bedrijf is gevonden op het internet te kunnen voeren aan het Large Language Model (LLM) moet het van het internet af gehaald worden. Dit kan gedaan worden met behulp van Web Scraping, wat een techniek is om ongestructureerde webdata om te zetten in gestructureerde data die opgeslagen en geanalyseerd kan worden in een centrale database of spreadsheet.[1] Er zijn verschillende manieren om dit te doen, en in dit document wordt er gekeken naar de verschillende manieren hoe je kan webscrapen, met daarbij de voordelen en nadelen."
   ]
  },
  {
   "cell_type": "markdown",
   "metadata": {},
   "source": [
    "## Soorten webscraping\n",
    "\n",
    "Zoals eerder gezegt zijn er verschillende soorten webscraping die toegepast kunnen worden. Uit onderzoek van Moaiad Ahmad Khder[2] zijn er hier 7 verschillende soorten:\n",
    "\n",
    "- Traditional Copy-and-Paste: Deze methode omvat het handmatig kopiëren van gegevens van webpagina's en het plakken ervan in een document of spreadsheet.[1] Hoewel eenvoudig, is het onpraktisch voor grote datasets.[2]\n",
    "- Grabbing Text with Regular Expressions: Deze techniek gebruikt reguliere expressies om specifieke tekstpatronen uit HTML-inhoud te zoeken en te extraheren.[1] Het is een eenvoudige methode, maar kan complex zijn om te implementeren voor ingewikkelde gegevensstructuren.[2]\n",
    "- Programming with HTTP Requests: Deze methode omvat het verzenden van HTTP-verzoeken naar webservers om webpagina's op te halen.[1] Bibliotheken zoals `curl` en `wget` kunnen worden gebruikt om dit proces te automatiseren, waardoor zowel statische als dynamische inhoud kan worden geëxtraheerd.[2]\n",
    "- HTML-parsing: Deze techniek gebruikt bibliotheken om HTML-documenten te parsen en gegevens te extraheren. Veelvoorkomende bibliotheken zijn Beautiful Soup en lxml, die eenvoudige navigatie en extractie van gegevens uit de HTML-structuur mogelijk maken.[2]\n",
    "- DOM-parsing: Deze methode omvat het gebruik van een volledig uitgeruste webbrowser of browserbesturing om toegang te krijgen tot dynamische inhoud die wordt gegenereerd door client-side scripts. Het parseert de webpagina in een Document Object Model (DOM)-boom, waaruit gegevens kunnen worden geëxtraheerd.[3]\n",
    "- Web Scraping Software: Er zijn verschillende tools beschikbaar die het web scrapingproces kunnen automatiseren. Deze tools kunnen paginadatastructuren automatisch identificeren of een gebruiksvriendelijke interface bieden voor het vastleggen van scrapingacties.[3]\n",
    "- Computer Vision-Based Analyzers: Deze geavanceerde methode maakt gebruik van computer vision- en machine learning-technieken om webpagina's visueel te scannen en relevante informatie te extraheren, waarbij menselijk surfgedrag wordt nagebootst.[3]\n",
    "\n",
    "In het geval van ons project wordt er gekozen voor een combinatie van HTML-parsing en DOM-parsing, vanwege het feit dat hiermee de hele structuur van de pagina meegenomen kan worden en daarmee ook alle stukken tekst meegenomen worden, al zitten ze in een dynamische container. Daarnaast is er voor een eerste onderzoek naar webscraping alleen naar HTML-parsing gekeken, omdat meeste webpagina's niet zwaar op JavaScript hangen om hun informatie weer te geven."
   ]
  },
  {
   "cell_type": "markdown",
   "metadata": {},
   "source": [
    "## HTML-parsing binnen Python\n",
    "\n",
    "Een van de redenen waarom Python een goede keuze is voor web scraping is dat Python een van de meest populaire codeertalen is, en dat hierdoor een grote community is die kan helpen met het oplossen van problemen of je code kan vinden die jouw probleem kan verhelpen.[4] Binnen python zijn hierdoor ook veel mogelijke libraries om mee te gaan web scrapen. Een paar voorbeelden hiervan zijn Beautiful Soup, Mechanize, Selenium en Playwright. Dit zijn libraries die specifiek zijn ontworpen voor het scrapen van webpagina's, waarbij Selenium en Playwright zelfs een webbrowser kunnen simuleren. Dit laatste komt wel met zijn eigen tegenslag, namelijk dat Selenium slomer, meer resource intensief en complex is[5] en dat Playwright zelfs nog complexer is dan Selenium.[6]\n",
    "\n",
    "Maar dan blijft nog de vraag: Moet er dan voor Beautiful Soup of voor Mechanize gekozen worden? Het antwoord op deze vraag is... beiden. Dit is vanwege de rede dat Mechanize meer gespecialiseert is in het ophalen van data waarbij formulieren gebruikt worden voor menselijke handelingen (o.a., login, search, filtering), en Beautiful Soup meer gespecialiseert is in het opzoeken van data binnen gescrapete data.\n",
    "\n",
    "Om deze combinatie te testen scrapen we een artikel van cnn, aangezien deze een basis html structuur hebben zonder popups.\n"
   ]
  },
  {
   "cell_type": "code",
   "execution_count": null,
   "metadata": {},
   "outputs": [
    {
     "name": "stdout",
     "output_type": "stream",
     "text": [
      "Donald Trump is stoking political mayhem in Canada by intensifying a crisis that threatens tooust Prime Minister Justin Trudeau. The president-elect’s bullying of an embattled political foe, whom he mocks as the governor of the 51st state in an insult to America’s loyal northern neighbor, is a preview of a belligerent strategy as he scours the globe for big second-term wins before even taking office. And his willingness to plunge into an ally’s domestic politics ought to be a warning to other strife-torn governments in places like France, Germany and South Korea, where political chaos and internal divides could make it hard to fight back. Trump’s threat to impose 25% tariffs on Canadian goods to coerce action from Ottawa on border issues saddled Trudeau with fears of a profound recession ahead of an election year which will dawn with him in deep trouble. It also represents an extraordinarily hardline approach to a nation that has deep diplomatic, cultural and familial ties to the United States, is one half of one of the world’s most lucrative trading relationships and that sent its troops to die in defense of its ally after the September 11 terror attacks in 2001. Trudeau, the already wobbling Liberal prime minister, may have suffered an existential blow this week with the sensational resignation of Finance Minister and Deputy Prime Minister Chrystia Freeland, who delivered an indictment of his rule hours before she was due to deliver a critical budget statement in parliament. Related articleJustin Trudeau is facing a political crisis made worse by Donald Trump. Can he survive as Canada’s leader? Policy tensions had been simmering between Canada’s two most powerful politicians for months, and the Liberals already looked doomed in an election that must be held by next fall, after consistently trailing opposition Conservatives by around 20 points in opinion polls. But Trump’s tariff gambit catalyzed for political combustion inside the Canadian cabinet. In a searing resignation letter, Freeland, a longtime Trudeau loyalist, effectively accused him of promoting frivolous policies that would leave Canada badly exposed to Trump. “Our country today faces a grave challenge. The incoming administration in the United States is pursuing a policy of aggressive economic nationalism, including a threat of 25 per cent tariffs. We need to take that threat extremely seriously,” Freeland wrote. “That means keeping our fiscal powder dry today, so we have the reserves we may need for a coming tariff war.” Freeland went on: “That means eschewing costly political gimmicks, which we can ill afford and which make Canadians doubt that we recognize the gravity of the moment.” After nine years in power, Trudeau has squandered the confidence of many Canadians, and much of his parliamentary party. Speculation is rife on whether he will step down early next year, to let his party pick a new leader and prime minister, or whether a confidence vote could fell his minority government and trigger a snap general election. “I wouldn’t say that Trump being elected was changing the Canadian government, but he’s certainly changing the conversation, he’s changing what the next election will be about and this government’s response,” said Matthew Lebo, a visiting professor at McGill University in Montreal. “And probably, he’s changing the timing of when Justin Trudeau would go,” added Lebo, who also teaches political science at the University of Western Ontario. For Trump, this week of chaos in Canadian politics can hardly have gone better. At one stroke, he was rid of Freeland, with whom he clashed when she led trade talks with the US in his first term, and damaged Trudeau, whom he obviously doesn’t like and is seen in his orbit as weak, ultra-progressive and “woke.” “The Great State of Canada is stunned as the Finance Minister resigns, or was fired, from her position by Governor Justin Trudeau,” Trump wrote on Truth Social on Tuesday. “Her behavior was totally toxic, and not at all conducive to making deals which are good for the very unhappy citizens of Canada. She will not be missed!!!” This is vindictive behavior from the leader of a great nation toward its biggest trading partner. But it fits Trump’s view of every foreign policy interaction as akin to a transactional business dispute between two adversaries that only one can win. And Trump’s tactics appear to be working. Trudeau, for instance, rushed to Mar-a-Lago in a show of deference last month that confirmed Trump’s dominance in the relationship. This may also have sharpened the prime minister’s tensions with Freeland, who favored a tougher Canadian approach. Trump also shattered political unity north of the border that has been critical to Canada’s approach to relations with Washington in the past. Ontario Premier Doug Ford warned, for example, that Canada should halt critical energy exports to the United States in retaliation for Trump’s threats, a step that alienated him from other leaders in other provinces, especially those in the carbon-rich prairies. “I want to sell more electricity; more power to our US friends and closest allies in the world. But that’s a tool that we have in our toolbox,” Ford told CNN’s Erin Burnett Tuesday. “We ship down 4.3 million barrels (of oil) every single day. If there was a tariff on that, that would increase gas by $1 a gallon, that wouldn’t go over very well.” The Ontario premier, a Progressive Conservative, said, however, that he would prefer to work with Trump since the US and Canada are stronger together. Trump knows he’s operating from a position of strength. The United States is the most powerful partner in the relationship and while a full-on trade war would hurt American consumers, the fastest, most severe consequences would be felt in Canada. Trump’s demand that Canada do more to prevent illegal migration and to cut the flow of fentanyl across the border has brought promises from Ottawa of hundreds of millions of dollars of investment and more border searches and personnel, even if these issues pale in comparison to the situation at the US-Mexico border. But Trump’s disdain for alliances that other presidents nurtured for decades and his resistance to compromises that suit both sides make it hard for America’s friends to manage normal relations with the United States when he is in power. This attitude is almost certain to become more pronounced in Trump’s second term. In the case of Canada and Mexico, he appears to be angling for big concessions ahead of the scheduled renegotiation of the USMCA continental trade agreement, which he hailed as a famous triumph in his first term but now wants to change. “We lose a lot of money to Canada, (a) tremendous amount of money,” the president-elect said at a news conference in Mar-a-Lago on Monday. “We’re subsidizing Canada. We’re subsidizing Mexico. That can’t go on. And I get along with the people of Mexico and Canada very well, but we can’t let that happen.” He went on: “Why are we supporting and giving other countries hundreds of billions of dollars? It’s not fair. It’s not right.” It is not clear what Trump means by the US giving other nations hundreds of billions of dollars. He could be referring to trade deficits, which he often seems to regard as evidence that another nation is taking advantage of the US — but often reflect the zeal of the American consumer to buy goods, wherever they are from, in a healthy measure of US economic prosperity. Trump’s hardened negotiating positions reflect supreme self-confidence after his election triumph.  He speaks for millions of Americans who believe that global free trade hollowed out American manufacturing and benefited business elites who sent jobs to low-wage economies overseas. Many of these communities are in border states close to Canada. While past US political leaders saw global trade and deals in North America and with China and the European Union as forces that spread wealth, many Trump supporters blame them for economic blight that has left entire regions behind and created social deprivation. Yet the reality of continental trade is also complex. Manufacturing and supply chains are deeply entwined because of trade deals. Parts of an automobile, for instance, may cross the border many times before its final assembly. So a trade war between the United States and Mexico and Canada could have a detrimental impact on US workers and consumers as well as those over the northern and southern borders. While Canada and Mexico are in Trump’s sights now, he’s certain to turn to what he regards as other unfair trading relationships once he takes office next month. Trump is likely to try his divide-and-rule strategy among European nations, seeking to mirror his success in creating discord inside Canada. While some of these states enjoy the protection of the European Union’s collective trading might, he’s got plenty of political discord to work with. French President Emmanuel Macron has been embroiled in a self-inflicted political crisis for months. The government of German Chancellor Olaf Scholz has just fallen with elections due next year. New British Prime Minister Keir Starmer has a big majority, but the UK no longer enjoys EU protection after Brexit, and Trump’s treatment of Canada is showing that smaller, loyal allies can’t expect a break. Trump has another incentive to play hardball politics — these countries have conservative populists in the wings with whom he’d no doubt prefer to deal. Canadian Conservative leader Pierre Poilievre, a blunt right-winger by his country’s standards, is widely seen as prime minister-in-waiting, and was lionized by US conservative media for supporting trucker protests that converged on Ottawa in 2022 and in which support for Trump-style populism was palpable. As rhetoric escalates across the 49th parallel, Canadians are getting an early taste of what Trump’s second term will be like. But everyone else will soon catch up. “I think Canadians had not anticipated how different a second term might be from a first term. … I certainly think that this is going to be a drastically different four years than the first four years,” Lebo said. “And I think Canadians are just starting to get a handle on that, and not knowing what to do either. I’m sure that they will just look for a different leader than Justin Trudeau, a different party than the Liberals, and hold on and hope that a new Canadian government can keep Donald Trump from targeting this country and will target someone else.”\n"
     ]
    }
   ],
   "source": [
    "from bs4 import BeautifulSoup\n",
    "import mechanize\n",
    "\n",
    "webpage = 'https://edition.cnn.com/2024/12/18/politics/trump-cananda-trudeau-analysis/index.html'\n",
    "\n",
    "# Scraper wordt klaargezet\n",
    "br = mechanize.Browser()\n",
    "br.set_handle_robots(False)\n",
    "\n",
    "# Data wordt opgehaald van website\n",
    "data = br.open(webpage).get_data()\n",
    "\n",
    "# Data wordt omgezet door Beautiful Soup\n",
    "soup = BeautifulSoup(data)\n",
    "\n",
    "# Nuttige tekstvelden worden uit de html opgehaald\n",
    "article_div = soup.find('div', class_='article__content')\n",
    "\n",
    "# Velden met tekst worden leeggehaald als de tekstvelden er zijn, en als laatste worden ze samengevoegt en uitgeprint\n",
    "if article_div:\n",
    "    paragraphs = article_div.find_all('p')\n",
    "    article_text = ' '.join([p.get_text(strip=True) for p in paragraphs])\n",
    "    print(article_text)\n",
    "else:\n",
    "    print(\"Article content not found.\")"
   ]
  },
  {
   "cell_type": "markdown",
   "metadata": {},
   "source": [
    "Zoals te zien is wordt de tekst goed opgehaald uit het artikel, wat betekend dat de huidige scraper werkt voor het scrapen van nieuws van cnn. Dit betekend ook dat deze scraper als basis gebruikt kan worden om een volgende versie op te bouwen."
   ]
  },
  {
   "cell_type": "markdown",
   "metadata": {},
   "source": [
    "## Vervolgstappen\n",
    "\n",
    "Er zijn een aantal vervolgstappen die genomen moeten worden wanneer er een tweede versie ontwikkeld wordt, aangezien hier nu geen rekening mee is gehouden. \n",
    "\n",
    "Een van de eerste is het kijken naar bij welke websites er wel en bij welke websites er niet gescrapet mag worden. Dit is vanwege het feit dat volgens het AVG en het Autoriteit Persoonsgegevens (AP) data van websites scrapen nogal in een \"grey area\" hangen, vanwege het feit dat het in sommige instanties legaal is terwijl het in andere situaties illegaal is. Een van deze illegale situaties is wanneer de website aangeeft wat het verboden is, waarom er ook goed gekeken moet worden naar het of handmatig of automatisch laten checken welke webpagina's het wel en niet mag. Daarnaast moet er hiervoor ook een extra risico onderzoek gedaan worden, om te kijken tot hoe verre het project zich binnen deze \"grey area\" bevindt, en welke maatregelen genomen moeten worden om hierbinnen te blijven.\n",
    "\n",
    "Een tweede is het kijken naar het omzeilen van blokkerende pop-ups, zoals bij nu.nl, waar de data niet gescrapet kan worden vanwege deze popup. Dit is vanwege het feit dat sommige pop-ups het onmogelijk maken om data te scrapen zonder een secundaire actie te ondernemen, zoals bij nu.nl, terwijl er bij deze website niets in de algemene voorwaarden staat over dat dit niet mag. Er moet dus gekeken worden naar een manier om deze pop-up te omzeilen, zodat wij deze data alsnog kunnen gebruiken.\n"
   ]
  },
  {
   "cell_type": "markdown",
   "metadata": {},
   "source": [
    "## Bronnen\n",
    "\n",
    "[1] S. de S. Sirisuriya, “A Comparative Study on Web Scraping,” 2015.\n",
    "\n",
    "[2] M. Khder, “Web Scraping or Web Crawling: State of Art, Techniques, Approaches and Application,” International Journal of Advances in Soft Computing and its Applications, vol. 13, no. 3, pp. 145–168, Dec. 2021, doi: 10.15849/IJASCA.211128.11.\n",
    "\n",
    "[3] A. V. Saurkar, K. G. Pathare, and S. A. Gode, “An Overview On Web Scraping Techniques And Tools,” 2018. Accessed: Dec. 19, 2024. [Online]. Available: https://www.semanticscholar.org/paper/An-Overview-On-Web-Scraping-Techniques-And-Tools-Saurkar-Pathare/132ce5f7831e05f73430dcda7e98777734e51577\n",
    "\n",
    "[4] Acodemy, Learn Web Scraping With Python In A Day: The Ultimate Crash Course to Learning the Basics of Web Scraping With Python In No Time. North Charleston, SC, USA: CreateSpace Independent Publishing Platform, 2015.\n",
    "\n",
    "[5] V. Morina and S. Sejdiu, “Evaluating and comparing web scraping tools and techniques for data collection,” Oct. 2022.\n",
    "\n",
    "[6] N. Lekh and T. Vasilis, “Web scraping in 2024: challenges and breakthroughs,” Apify Blog. Accessed: Dec. 19, 2024. [Online]. Available: https://blog.apify.com/web-scraping-2024/\n",
    "\n",
    "\n",
    "\n",
    "  \n",
    "  "
   ]
  }
 ],
 "metadata": {
  "kernelspec": {
   "display_name": "Python 3",
   "language": "python",
   "name": "python3"
  },
  "language_info": {
   "codemirror_mode": {
    "name": "ipython",
    "version": 3
   },
   "file_extension": ".py",
   "mimetype": "text/x-python",
   "name": "python",
   "nbconvert_exporter": "python",
   "pygments_lexer": "ipython3",
   "version": "3.12.5"
  }
 },
 "nbformat": 4,
 "nbformat_minor": 2
}
